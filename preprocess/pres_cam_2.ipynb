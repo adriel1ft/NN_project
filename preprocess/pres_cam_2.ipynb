{
 "cells": [
  {
   "cell_type": "code",
   "execution_count": 6,
   "metadata": {},
   "outputs": [],
   "source": [
    "import pandas as pd\n",
    "\n",
    "df = pd.read_csv(\"../data/proposicoes_2013-2024_final_pres_cam.csv\")"
   ]
  },
  {
   "cell_type": "code",
   "execution_count": 9,
   "metadata": {},
   "outputs": [
    {
     "data": {
      "text/plain": [
       "Index(['nomeProposicao', 'idProposicao', 'partidoAutor', 'DataApresentacao',\n",
       "       'Ano', 'Administração e Políticas Públicas',\n",
       "       'Desenvolvimento Social e Urbano', 'Direitos e Justiça',\n",
       "       'Economia e Desenvolvimento Sustentável',\n",
       "       'Infraestrutura e Gestão de Recursos', 'VirouLei', 'Influencia',\n",
       "       'Aliado', 'Oposição', 'Partido_Pres_Cam', 'PPC_igual_partidoAutor'],\n",
       "      dtype='object')"
      ]
     },
     "execution_count": 9,
     "metadata": {},
     "output_type": "execute_result"
    }
   ],
   "source": [
    "df.columns"
   ]
  },
  {
   "cell_type": "code",
   "execution_count": 10,
   "metadata": {},
   "outputs": [],
   "source": [
    "df[\"Partido_Pres_Cam\"] = df[\"Partido_Pres_Cam\"].fillna(\"PMDB\") "
   ]
  },
  {
   "cell_type": "code",
   "execution_count": 14,
   "metadata": {},
   "outputs": [],
   "source": [
    "df[\"PPC_igual_partidoAutor\"] = df.apply(lambda row: 1 if row[\"partidoAutor\"] == row[\"Partido_Pres_Cam\"] else 0, axis=1)"
   ]
  },
  {
   "cell_type": "code",
   "execution_count": 15,
   "metadata": {},
   "outputs": [
    {
     "data": {
      "text/plain": [
       "PPC_igual_partidoAutor\n",
       "0    7175\n",
       "1     786\n",
       "Name: count, dtype: int64"
      ]
     },
     "execution_count": 15,
     "metadata": {},
     "output_type": "execute_result"
    }
   ],
   "source": [
    "df[\"PPC_igual_partidoAutor\"].value_counts()"
   ]
  },
  {
   "cell_type": "code",
   "execution_count": 16,
   "metadata": {},
   "outputs": [
    {
     "name": "stdout",
     "output_type": "stream",
     "text": [
      "df salvo com sucesso\n"
     ]
    }
   ],
   "source": [
    "df.to_csv(\"../data/proposicoes_2013-2024_final_pres_cam.csv\")\n",
    "print(\"df salvo com sucesso\")"
   ]
  },
  {
   "cell_type": "code",
   "execution_count": null,
   "metadata": {},
   "outputs": [],
   "source": []
  }
 ],
 "metadata": {
  "kernelspec": {
   "display_name": "base",
   "language": "python",
   "name": "python3"
  },
  "language_info": {
   "codemirror_mode": {
    "name": "ipython",
    "version": 3
   },
   "file_extension": ".py",
   "mimetype": "text/x-python",
   "name": "python",
   "nbconvert_exporter": "python",
   "pygments_lexer": "ipython3",
   "version": "3.11.5"
  }
 },
 "nbformat": 4,
 "nbformat_minor": 2
}
