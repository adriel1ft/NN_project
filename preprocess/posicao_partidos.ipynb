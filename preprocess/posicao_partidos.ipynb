{
 "cells": [
  {
   "cell_type": "code",
   "execution_count": 88,
   "metadata": {},
   "outputs": [],
   "source": [
    "from bs4 import BeautifulSoup\n",
    "import requests\n",
    "import pandas as pd\n",
    "from io import StringIO\n",
    "import os\n"
   ]
  },
  {
   "cell_type": "code",
   "execution_count": 34,
   "metadata": {},
   "outputs": [],
   "source": [
    "url_11_14 = \"https://pt.wikipedia.org/wiki/Lista_de_deputados_federais_do_Brasil_da_54.%C2%AA_legislatura\"\n",
    "url_15_18 = \"https://pt.wikipedia.org/wiki/Lista_de_deputados_federais_do_Brasil_da_55.%C2%AA_legislatura\"\n",
    "url_19_22 = \"https://pt.wikipedia.org/wiki/Lista_de_deputados_federais_do_Brasil_da_56.%C2%AA_legislatura\"\n",
    "url_23_24 = \"https://pt.wikipedia.org/wiki/Lista_de_deputados_federais_do_Brasil_da_57.%C2%AA_legislatura\"\n"
   ]
  },
  {
   "cell_type": "code",
   "execution_count": 85,
   "metadata": {},
   "outputs": [],
   "source": [
    "def get_table(url, periodo=None):\n",
    "    response = requests.get(url)\n",
    "    html_content = response.text\n",
    "    soup = BeautifulSoup(html_content, 'html.parser')\n",
    "    tables = soup.find_all('table', {'class': 'wikitable'})\n",
    "\n",
    "    if periodo == \"23_24\":\n",
    "        table = tables[1]\n",
    "    elif periodo == \"19_22\":\n",
    "        table = tables[3]\n",
    "    else:\n",
    "        table = tables[0]\n",
    "    dfs = pd.read_html(StringIO(str(table)))\n",
    "    df = dfs[0]  \n",
    "\n",
    "\n",
    "    colunas_para_remover = [\"Bancada\", \"Número de deputados\", \"Número de deputados[6]\",\"Líder\", \"Líder[3]\", \"Nível\", \"Ref\"]\n",
    "    colunas_existentes = [col for col in colunas_para_remover if col in df.columns]\n",
    "    df.drop(columns=colunas_existentes, inplace=True)\n",
    "\n",
    "    df['Aliado'] = df[\"Posição\"].apply(lambda x: 1 if x == \"Governo\" else 0)\n",
    "    df['Oposição'] = df[\"Posição\"].apply(lambda x: 1 if x == \"Oposição\" else 0)\n",
    "    df.drop(columns=[\"Posição\"], inplace=True)\n",
    "    \n",
    "    return df\n"
   ]
  },
  {
   "cell_type": "code",
   "execution_count": 86,
   "metadata": {},
   "outputs": [],
   "source": [
    "df_11_14 = get_table(url_11_14)\n",
    "df_15_18 = get_table(url_11_14)\n",
    "df_19_22 = get_table(url_19_22, periodo=\"19_22\")\n",
    "df_23_24 = get_table(url_23_24, periodo=\"23_24\")"
   ]
  },
  {
   "cell_type": "code",
   "execution_count": 89,
   "metadata": {},
   "outputs": [
    {
     "name": "stdout",
     "output_type": "stream",
     "text": [
      "Criando pasta data/posicoes\n"
     ]
    }
   ],
   "source": [
    "if not os.path.exists(\"data/posicoes\"):\n",
    "    os.makedirs(\"data/posicoes\")\n",
    "    print(\"Criando pasta data/posicoes\")"
   ]
  },
  {
   "cell_type": "code",
   "execution_count": 90,
   "metadata": {},
   "outputs": [
    {
     "name": "stdout",
     "output_type": "stream",
     "text": [
      "Arquivos salvos com sucesso!\n"
     ]
    }
   ],
   "source": [
    "df_11_14.to_csv(\"data/posicoes/posicoes_11_14.csv\", index=False)\n",
    "df_15_18.to_csv(\"data/posicoes/posicoes_15_18.csv\", index=False)\n",
    "df_19_22.to_csv(\"data/posicoes/posicoes_19_22.csv\", index=False)\n",
    "df_23_24.to_csv(\"data/posicoes/posicoes_23_24.csv\", index=False)\n",
    "print(\"Arquivos salvos com sucesso!\")"
   ]
  },
  {
   "cell_type": "code",
   "execution_count": null,
   "metadata": {},
   "outputs": [],
   "source": []
  }
 ],
 "metadata": {
  "kernelspec": {
   "display_name": "base",
   "language": "python",
   "name": "python3"
  },
  "language_info": {
   "codemirror_mode": {
    "name": "ipython",
    "version": 3
   },
   "file_extension": ".py",
   "mimetype": "text/x-python",
   "name": "python",
   "nbconvert_exporter": "python",
   "pygments_lexer": "ipython3",
   "version": "3.11.5"
  }
 },
 "nbformat": 4,
 "nbformat_minor": 2
}
