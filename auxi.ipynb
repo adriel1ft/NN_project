{
 "cells": [
  {
   "cell_type": "code",
   "execution_count": null,
   "metadata": {
    "vscode": {
     "languageId": "plaintext"
    }
   },
   "outputs": [],
   "source": [
    "correlation_matrix = x.corr()\n",
    "\n",
    "plt.figure(figsize=(12, 8))\n",
    "sns.heatmap(correlation_matrix, annot=True, cmap='YlGn', cbar=True)\n",
    "plt.title('Mapa de Calor das Correlações')\n",
    "plt.show()"
   ]
  },
  {
   "cell_type": "code",
   "execution_count": null,
   "metadata": {
    "vscode": {
     "languageId": "plaintext"
    }
   },
   "outputs": [],
   "source": [
    "feature_names = x.columns\n",
    "importances = clf_s.feature_importances_\n",
    "\n",
    "importance_df = pd.DataFrame(importances.reshape(1, -1), columns=feature_names)\n",
    "\n",
    "plt.figure(figsize=(10, 2))\n",
    "sns.heatmap(importance_df, annot=True, cmap=\"YlGn\", cbar=True, xticklabels=feature_names, yticklabels=[\"Importance\"])\n",
    "plt.title('Feature Importance Heatmap')\n",
    "plt.xlabel('Features')\n",
    "plt.show()"
   ]
  }
 ],
 "metadata": {
  "language_info": {
   "name": "python"
  }
 },
 "nbformat": 4,
 "nbformat_minor": 2
}
