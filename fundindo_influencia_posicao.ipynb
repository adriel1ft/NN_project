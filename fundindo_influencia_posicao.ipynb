{
 "cells": [
  {
   "cell_type": "code",
   "execution_count": 555,
   "metadata": {},
   "outputs": [],
   "source": [
    "import os\n",
    "import pandas as pd"
   ]
  },
  {
   "cell_type": "code",
   "execution_count": 556,
   "metadata": {},
   "outputs": [],
   "source": [
    "posicoes_1 = os.path.join('data', 'posicoes', 'posicoes_11_14.csv')\n",
    "posicoes_2 = os.path.join('data', 'posicoes', 'posicoes_15_18.csv')\n",
    "posicoes_3 = os.path.join('data', 'posicoes', 'posicoes_19_22.csv')\n",
    "posicoes_4 = os.path.join('data', 'posicoes', 'posicoes_23_24.csv')\n",
    "\n",
    "posicoes_1 = pd.read_csv(posicoes_1)\n",
    "posicoes_2 = pd.read_csv(posicoes_2)\n",
    "posicoes_3 = pd.read_csv(posicoes_3)\n",
    "posicoes_4 = pd.read_csv(posicoes_4)"
   ]
  },
  {
   "cell_type": "code",
   "execution_count": 557,
   "metadata": {},
   "outputs": [],
   "source": [
    "df = os.path.join('data', 'transformed_dfs', 'Proposicoes_2013_2024_Influencia.csv')\n",
    "\n",
    "df = pd.read_csv(df)"
   ]
  },
  {
   "cell_type": "code",
   "execution_count": 558,
   "metadata": {},
   "outputs": [
    {
     "data": {
      "text/plain": [
       "1486"
      ]
     },
     "execution_count": 558,
     "metadata": {},
     "output_type": "execute_result"
    }
   ],
   "source": [
    "df_aux = df[(df['ano'] == 2013) | (df['ano'] == 2014)]  \n",
    "df_aux.shape[0]"
   ]
  },
  {
   "cell_type": "code",
<<<<<<< HEAD
   "execution_count": 559,
=======
   "execution_count": 6,
>>>>>>> refs/remotes/origin/main
   "metadata": {},
   "outputs": [
    {
     "data": {
      "text/plain": [
       "3757"
      ]
     },
<<<<<<< HEAD
     "execution_count": 559,
=======
     "execution_count": 6,
>>>>>>> refs/remotes/origin/main
     "metadata": {},
     "output_type": "execute_result"
    }
   ],
   "source": [
    "df_aux = df[(df['ano'] == 2015) | (df['ano'] == 2016) | (df['ano'] == 2017) | (df['ano'] == 2018)]  \n",
    "df_aux.shape[0]"
   ]
  },
  {
   "cell_type": "code",
<<<<<<< HEAD
   "execution_count": 560,
=======
   "execution_count": 7,
>>>>>>> refs/remotes/origin/main
   "metadata": {},
   "outputs": [
    {
     "data": {
      "text/plain": [
       "2478"
      ]
     },
<<<<<<< HEAD
     "execution_count": 560,
=======
     "execution_count": 7,
>>>>>>> refs/remotes/origin/main
     "metadata": {},
     "output_type": "execute_result"
    }
   ],
   "source": [
    "df_aux = df[(df['ano'] == 2019) | (df['ano'] == 2020) | (df['ano'] == 2021) | (df['ano'] == 2022)]  \n",
    "df_aux.shape[0]"
   ]
  },
  {
   "cell_type": "code",
<<<<<<< HEAD
   "execution_count": 561,
=======
   "execution_count": 8,
>>>>>>> refs/remotes/origin/main
   "metadata": {},
   "outputs": [
    {
     "data": {
      "text/plain": [
       "240"
      ]
     },
<<<<<<< HEAD
     "execution_count": 561,
=======
     "execution_count": 8,
>>>>>>> refs/remotes/origin/main
     "metadata": {},
     "output_type": "execute_result"
    }
   ],
   "source": [
    "df_aux = df[(df['ano'] == 2023) | (df['ano'] == 2024)]  \n",
    "df_aux.shape[0]"
   ]
  },
  {
   "cell_type": "code",
<<<<<<< HEAD
   "execution_count": 562,
=======
   "execution_count": 9,
>>>>>>> refs/remotes/origin/main
   "metadata": {},
   "outputs": [
    {
     "data": {
      "text/plain": [
       "7961"
      ]
     },
<<<<<<< HEAD
     "execution_count": 562,
=======
     "execution_count": 9,
>>>>>>> refs/remotes/origin/main
     "metadata": {},
     "output_type": "execute_result"
    }
   ],
   "source": [
    "df.shape[0]"
   ]
  },
  {
   "cell_type": "code",
<<<<<<< HEAD
   "execution_count": 563,
=======
   "execution_count": 10,
>>>>>>> refs/remotes/origin/main
   "metadata": {},
   "outputs": [],
   "source": [
    "df['partidoAutor'] = df['partidoAutor'].str.strip().str.upper()\n",
    "posicoes_1['Partido'] = posicoes_1['Partido'].str.strip().str.upper()\n",
    "posicoes_2['Partido'] = posicoes_2['Partido'].str.strip().str.upper()\n",
    "posicoes_3['Partido'] = posicoes_3['Partido'].str.strip().str.upper()\n",
    "posicoes_4['Partido'] = posicoes_4['Partido'].str.strip().str.upper()"
   ]
  },
  {
   "cell_type": "code",
<<<<<<< HEAD
   "execution_count": 564,
=======
   "execution_count": 11,
>>>>>>> refs/remotes/origin/main
   "metadata": {},
   "outputs": [
    {
     "name": "stdout",
     "output_type": "stream",
     "text": [
      "1486\n",
      "3757\n",
      "2478\n",
      "240\n"
     ]
    }
   ],
   "source": [
    "df_13_14 = df[df['ano'].isin([2013, 2014])]\n",
    "df_15_18 = df[df['ano'].isin([2015, 2016, 2017, 2018])]\n",
    "df_19_22 = df[df['ano'].isin([2019, 2020, 2021, 2022])]\n",
    "df_23_24 = df[df['ano'].isin([2023, 2024])]\n",
    "\n",
    "print(df_13_14.shape[0])\n",
    "print(df_15_18.shape[0])\n",
    "print(df_19_22.shape[0])\n",
    "print(df_23_24.shape[0])"
   ]
  },
  {
   "cell_type": "code",
<<<<<<< HEAD
   "execution_count": 565,
=======
   "execution_count": 12,
>>>>>>> refs/remotes/origin/main
   "metadata": {},
   "outputs": [
    {
     "name": "stdout",
     "output_type": "stream",
     "text": [
      "1486\n",
      "3757\n",
      "2478\n",
      "240\n"
     ]
    }
   ],
   "source": [
    "df_13_14 = df_13_14.merge(posicoes_1, left_on='partidoAutor', right_on='Partido', how='left')\n",
    "df_15_18 = df_15_18.merge(posicoes_2, left_on='partidoAutor', right_on='Partido', how='left')\n",
    "df_19_22 = df_19_22.merge(posicoes_3, left_on='partidoAutor', right_on='Partido', how='left')\n",
    "df_23_24 = df_23_24.merge(posicoes_4, left_on='partidoAutor', right_on='Partido', how='left')\n",
    "\n",
    "print(df_13_14.shape[0])\n",
    "print(df_15_18.shape[0])\n",
    "print(df_19_22.shape[0])\n",
    "print(df_23_24.shape[0])"
   ]
  },
  {
   "cell_type": "code",
<<<<<<< HEAD
   "execution_count": 566,
=======
   "execution_count": 13,
>>>>>>> refs/remotes/origin/main
   "metadata": {},
   "outputs": [],
   "source": [
    "df_concatenado = pd.concat([df_13_14, df_15_18, df_19_22, df_23_24])\n",
    "df = df.merge(df_concatenado[['idProposicao', 'Partido', 'Aliado', 'Oposição']], on='idProposicao', how='left')\n"
   ]
  },
  {
   "cell_type": "code",
<<<<<<< HEAD
   "execution_count": 567,
=======
   "execution_count": 14,
>>>>>>> refs/remotes/origin/main
   "metadata": {},
   "outputs": [],
   "source": [
    "df = df.drop(columns=['Partido'])"
   ]
  },
  {
   "cell_type": "code",
<<<<<<< HEAD
   "execution_count": 568,
=======
   "execution_count": 15,
>>>>>>> refs/remotes/origin/main
   "metadata": {},
   "outputs": [
    {
     "data": {
      "text/html": [
       "<div>\n",
       "<style scoped>\n",
       "    .dataframe tbody tr th:only-of-type {\n",
       "        vertical-align: middle;\n",
       "    }\n",
       "\n",
       "    .dataframe tbody tr th {\n",
       "        vertical-align: top;\n",
       "    }\n",
       "\n",
       "    .dataframe thead th {\n",
       "        text-align: right;\n",
       "    }\n",
       "</style>\n",
       "<table border=\"1\" class=\"dataframe\">\n",
       "  <thead>\n",
       "    <tr style=\"text-align: right;\">\n",
       "      <th></th>\n",
       "      <th>nomeProposicao</th>\n",
       "      <th>idProposicao</th>\n",
       "      <th>partidoAutor</th>\n",
       "      <th>DataApresentacao</th>\n",
       "      <th>ano</th>\n",
       "      <th>Administração e Políticas Públicas</th>\n",
       "      <th>Desenvolvimento Social e Urbano</th>\n",
       "      <th>Direitos e Justiça</th>\n",
       "      <th>Economia e Desenvolvimento Sustentável</th>\n",
       "      <th>Infraestrutura e Gestão de Recursos</th>\n",
       "      <th>VirouLei</th>\n",
       "      <th>influencia</th>\n",
       "      <th>Aliado</th>\n",
       "      <th>Oposição</th>\n",
       "    </tr>\n",
       "  </thead>\n",
       "  <tbody>\n",
       "    <tr>\n",
       "      <th>0</th>\n",
       "      <td>PL 7021/2013</td>\n",
       "      <td>604997</td>\n",
       "      <td>PSD</td>\n",
       "      <td>2013-12-19</td>\n",
       "      <td>2013</td>\n",
       "      <td>0</td>\n",
       "      <td>0</td>\n",
       "      <td>1</td>\n",
       "      <td>0</td>\n",
       "      <td>0</td>\n",
       "      <td>0</td>\n",
       "      <td>0.077973</td>\n",
       "      <td>1</td>\n",
       "      <td>0</td>\n",
       "    </tr>\n",
       "    <tr>\n",
       "      <th>1</th>\n",
       "      <td>PL 7020/2013</td>\n",
       "      <td>604994</td>\n",
       "      <td>PRP</td>\n",
       "      <td>2013-12-19</td>\n",
       "      <td>2013</td>\n",
       "      <td>0</td>\n",
       "      <td>0</td>\n",
       "      <td>0</td>\n",
       "      <td>1</td>\n",
       "      <td>0</td>\n",
       "      <td>0</td>\n",
       "      <td>0.024691</td>\n",
       "      <td>0</td>\n",
       "      <td>0</td>\n",
       "    </tr>\n",
       "    <tr>\n",
       "      <th>2</th>\n",
       "      <td>PL 7017/2013</td>\n",
       "      <td>604974</td>\n",
       "      <td>PSC</td>\n",
       "      <td>2013-12-18</td>\n",
       "      <td>2013</td>\n",
       "      <td>0</td>\n",
       "      <td>0</td>\n",
       "      <td>0</td>\n",
       "      <td>1</td>\n",
       "      <td>1</td>\n",
       "      <td>0</td>\n",
       "      <td>0.025341</td>\n",
       "      <td>1</td>\n",
       "      <td>0</td>\n",
       "    </tr>\n",
       "    <tr>\n",
       "      <th>3</th>\n",
       "      <td>PL 7016/2013</td>\n",
       "      <td>604968</td>\n",
       "      <td>PMDB</td>\n",
       "      <td>2013-12-18</td>\n",
       "      <td>2013</td>\n",
       "      <td>1</td>\n",
       "      <td>0</td>\n",
       "      <td>0</td>\n",
       "      <td>0</td>\n",
       "      <td>0</td>\n",
       "      <td>0</td>\n",
       "      <td>0.148148</td>\n",
       "      <td>1</td>\n",
       "      <td>0</td>\n",
       "    </tr>\n",
       "    <tr>\n",
       "      <th>4</th>\n",
       "      <td>PL 7014/2013</td>\n",
       "      <td>604961</td>\n",
       "      <td>PROS</td>\n",
       "      <td>2013-12-18</td>\n",
       "      <td>2013</td>\n",
       "      <td>0</td>\n",
       "      <td>1</td>\n",
       "      <td>0</td>\n",
       "      <td>0</td>\n",
       "      <td>0</td>\n",
       "      <td>0</td>\n",
       "      <td>0.033138</td>\n",
       "      <td>1</td>\n",
       "      <td>0</td>\n",
       "    </tr>\n",
       "    <tr>\n",
       "      <th>...</th>\n",
       "      <td>...</td>\n",
       "      <td>...</td>\n",
       "      <td>...</td>\n",
       "      <td>...</td>\n",
       "      <td>...</td>\n",
       "      <td>...</td>\n",
       "      <td>...</td>\n",
       "      <td>...</td>\n",
       "      <td>...</td>\n",
       "      <td>...</td>\n",
       "      <td>...</td>\n",
       "      <td>...</td>\n",
       "      <td>...</td>\n",
       "      <td>...</td>\n",
       "    </tr>\n",
       "    <tr>\n",
       "      <th>7956</th>\n",
       "      <td>PL 712/2024</td>\n",
       "      <td>2420454</td>\n",
       "      <td>PP</td>\n",
       "      <td>2024-03-12</td>\n",
       "      <td>2024</td>\n",
       "      <td>0</td>\n",
       "      <td>1</td>\n",
       "      <td>0</td>\n",
       "      <td>0</td>\n",
       "      <td>0</td>\n",
       "      <td>0</td>\n",
       "      <td>0.097466</td>\n",
       "      <td>1</td>\n",
       "      <td>0</td>\n",
       "    </tr>\n",
       "    <tr>\n",
       "      <th>7957</th>\n",
       "      <td>PL 590/2024</td>\n",
       "      <td>2419509</td>\n",
       "      <td>REPUBLICANOS</td>\n",
       "      <td>2024-03-06</td>\n",
       "      <td>2024</td>\n",
       "      <td>0</td>\n",
       "      <td>0</td>\n",
       "      <td>1</td>\n",
       "      <td>0</td>\n",
       "      <td>0</td>\n",
       "      <td>0</td>\n",
       "      <td>0.083821</td>\n",
       "      <td>0</td>\n",
       "      <td>0</td>\n",
       "    </tr>\n",
       "    <tr>\n",
       "      <th>7958</th>\n",
       "      <td>PL 545/2024</td>\n",
       "      <td>2419197</td>\n",
       "      <td>PT</td>\n",
       "      <td>2024-03-05</td>\n",
       "      <td>2024</td>\n",
       "      <td>1</td>\n",
       "      <td>0</td>\n",
       "      <td>0</td>\n",
       "      <td>1</td>\n",
       "      <td>0</td>\n",
       "      <td>1</td>\n",
       "      <td>0.132554</td>\n",
       "      <td>1</td>\n",
       "      <td>0</td>\n",
       "    </tr>\n",
       "    <tr>\n",
       "      <th>7959</th>\n",
       "      <td>PL 147/2024</td>\n",
       "      <td>2417234</td>\n",
       "      <td>SOLIDARIEDADE</td>\n",
       "      <td>2024-02-06</td>\n",
       "      <td>2024</td>\n",
       "      <td>0</td>\n",
       "      <td>0</td>\n",
       "      <td>1</td>\n",
       "      <td>0</td>\n",
       "      <td>0</td>\n",
       "      <td>1</td>\n",
       "      <td>0.011696</td>\n",
       "      <td>1</td>\n",
       "      <td>0</td>\n",
       "    </tr>\n",
       "    <tr>\n",
       "      <th>7960</th>\n",
       "      <td>PL 81/2024</td>\n",
       "      <td>2417025</td>\n",
       "      <td>PT</td>\n",
       "      <td>2024-02-05</td>\n",
       "      <td>2024</td>\n",
       "      <td>0</td>\n",
       "      <td>0</td>\n",
       "      <td>0</td>\n",
       "      <td>1</td>\n",
       "      <td>0</td>\n",
       "      <td>1</td>\n",
       "      <td>0.132554</td>\n",
       "      <td>1</td>\n",
       "      <td>0</td>\n",
       "    </tr>\n",
       "  </tbody>\n",
       "</table>\n",
       "<p>7961 rows × 14 columns</p>\n",
       "</div>"
      ],
      "text/plain": [
       "     nomeProposicao  idProposicao   partidoAutor DataApresentacao   ano  \\\n",
       "0      PL 7021/2013        604997            PSD       2013-12-19  2013   \n",
       "1      PL 7020/2013        604994            PRP       2013-12-19  2013   \n",
       "2      PL 7017/2013        604974            PSC       2013-12-18  2013   \n",
       "3      PL 7016/2013        604968           PMDB       2013-12-18  2013   \n",
       "4      PL 7014/2013        604961           PROS       2013-12-18  2013   \n",
       "...             ...           ...            ...              ...   ...   \n",
       "7956    PL 712/2024       2420454             PP       2024-03-12  2024   \n",
       "7957    PL 590/2024       2419509   REPUBLICANOS       2024-03-06  2024   \n",
       "7958    PL 545/2024       2419197             PT       2024-03-05  2024   \n",
       "7959    PL 147/2024       2417234  SOLIDARIEDADE       2024-02-06  2024   \n",
       "7960     PL 81/2024       2417025             PT       2024-02-05  2024   \n",
       "\n",
       "      Administração e Políticas Públicas  Desenvolvimento Social e Urbano  \\\n",
       "0                                      0                                0   \n",
       "1                                      0                                0   \n",
       "2                                      0                                0   \n",
       "3                                      1                                0   \n",
       "4                                      0                                1   \n",
       "...                                  ...                              ...   \n",
       "7956                                   0                                1   \n",
       "7957                                   0                                0   \n",
       "7958                                   1                                0   \n",
       "7959                                   0                                0   \n",
       "7960                                   0                                0   \n",
       "\n",
       "      Direitos e Justiça  Economia e Desenvolvimento Sustentável  \\\n",
       "0                      1                                       0   \n",
       "1                      0                                       1   \n",
       "2                      0                                       1   \n",
       "3                      0                                       0   \n",
       "4                      0                                       0   \n",
       "...                  ...                                     ...   \n",
       "7956                   0                                       0   \n",
       "7957                   1                                       0   \n",
       "7958                   0                                       1   \n",
       "7959                   1                                       0   \n",
       "7960                   0                                       1   \n",
       "\n",
       "      Infraestrutura e Gestão de Recursos  VirouLei  influencia  Aliado  \\\n",
       "0                                       0         0    0.077973       1   \n",
       "1                                       0         0    0.024691       0   \n",
       "2                                       1         0    0.025341       1   \n",
       "3                                       0         0    0.148148       1   \n",
       "4                                       0         0    0.033138       1   \n",
       "...                                   ...       ...         ...     ...   \n",
       "7956                                    0         0    0.097466       1   \n",
       "7957                                    0         0    0.083821       0   \n",
       "7958                                    0         1    0.132554       1   \n",
       "7959                                    0         1    0.011696       1   \n",
       "7960                                    0         1    0.132554       1   \n",
       "\n",
       "      Oposição  \n",
       "0            0  \n",
       "1            0  \n",
       "2            0  \n",
       "3            0  \n",
       "4            0  \n",
       "...        ...  \n",
       "7956         0  \n",
       "7957         0  \n",
       "7958         0  \n",
       "7959         0  \n",
       "7960         0  \n",
       "\n",
       "[7961 rows x 14 columns]"
      ]
     },
<<<<<<< HEAD
     "execution_count": 568,
=======
     "execution_count": 15,
>>>>>>> refs/remotes/origin/main
     "metadata": {},
     "output_type": "execute_result"
    }
   ],
   "source": [
    "df"
   ]
  },
  {
   "cell_type": "code",
<<<<<<< HEAD
=======
   "execution_count": 17,
   "metadata": {},
   "outputs": [
    {
     "data": {
      "text/plain": [
       "[{'2013': 'PT', '2014': 'PMDB'}]"
      ]
     },
     "execution_count": 17,
     "metadata": {},
     "output_type": "execute_result"
    }
   ],
   "source": [
    "presidente_camara = [\n",
    "    {'2013': 'PT', '2014': 'PMDB'},\n",
    "]\n",
    "presidente_camara"
   ]
  },
  {
   "cell_type": "code",
>>>>>>> refs/remotes/origin/main
   "execution_count": 570,
   "metadata": {},
   "outputs": [
    {
     "name": "stdout",
     "output_type": "stream",
     "text": [
      "File proposicoes_2013-2024_final.csv saved\n"
     ]
    }
   ],
   "source": [
    "df.to_csv('data/proposicoes_2013-2024_final.csv', index=False)\n",
    "print(\"File proposicoes_2013-2024_final.csv saved\")"
   ]
  }
 ],
 "metadata": {
  "kernelspec": {
   "display_name": "Python 3",
   "language": "python",
   "name": "python3"
  },
  "language_info": {
   "codemirror_mode": {
    "name": "ipython",
    "version": 3
   },
   "file_extension": ".py",
   "mimetype": "text/x-python",
   "name": "python",
   "nbconvert_exporter": "python",
   "pygments_lexer": "ipython3",
   "version": "3.11.9"
  }
 },
 "nbformat": 4,
 "nbformat_minor": 2
}
