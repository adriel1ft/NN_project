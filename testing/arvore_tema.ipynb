{
 "cells": [
  {
   "cell_type": "code",
   "execution_count": 119,
   "metadata": {},
   "outputs": [],
   "source": [
    "import numpy as np\n",
    "import pandas as pd\n",
    "import seaborn as sns\n",
    "import matplotlib.pyplot as plt\n",
    "from sklearn.metrics import accuracy_score\n",
    "from sklearn.feature_selection import chi2\n",
    "from sklearn.metrics import confusion_matrix\n",
    "from sklearn.tree import DecisionTreeClassifier\n",
    "from sklearn.metrics import classification_report\n",
    "from sklearn.model_selection import train_test_split\n",
    "from imblearn.under_sampling import RandomUnderSampler"
   ]
  },
  {
   "cell_type": "code",
   "execution_count": 120,
   "metadata": {},
   "outputs": [
    {
     "data": {
      "text/html": [
       "<div>\n",
       "<style scoped>\n",
       "    .dataframe tbody tr th:only-of-type {\n",
       "        vertical-align: middle;\n",
       "    }\n",
       "\n",
       "    .dataframe tbody tr th {\n",
       "        vertical-align: top;\n",
       "    }\n",
       "\n",
       "    .dataframe thead th {\n",
       "        text-align: right;\n",
       "    }\n",
       "</style>\n",
       "<table border=\"1\" class=\"dataframe\">\n",
       "  <thead>\n",
       "    <tr style=\"text-align: right;\">\n",
       "      <th></th>\n",
       "      <th>nomeProposicao</th>\n",
       "      <th>idProposicao</th>\n",
       "      <th>partidoAutor</th>\n",
       "      <th>DataApresentacao</th>\n",
       "      <th>Ano</th>\n",
       "      <th>Desenvolvimento Social e Urbano</th>\n",
       "      <th>VirouLei</th>\n",
       "      <th>Influencia</th>\n",
       "      <th>Aliado</th>\n",
       "      <th>Oposição</th>\n",
       "      <th>Partido_Pres_Cam</th>\n",
       "      <th>PPC_igual_partidoAutor</th>\n",
       "    </tr>\n",
       "  </thead>\n",
       "  <tbody>\n",
       "    <tr>\n",
       "      <th>0</th>\n",
       "      <td>PL 4926/2013</td>\n",
       "      <td>564574</td>\n",
       "      <td>PR</td>\n",
       "      <td>2013-02-04</td>\n",
       "      <td>2013</td>\n",
       "      <td>1</td>\n",
       "      <td>0</td>\n",
       "      <td>0.077973</td>\n",
       "      <td>1</td>\n",
       "      <td>0</td>\n",
       "      <td>PMDB</td>\n",
       "      <td>0</td>\n",
       "    </tr>\n",
       "    <tr>\n",
       "      <th>1</th>\n",
       "      <td>PL 4931/2013</td>\n",
       "      <td>564595</td>\n",
       "      <td>PR</td>\n",
       "      <td>2013-02-04</td>\n",
       "      <td>2013</td>\n",
       "      <td>1</td>\n",
       "      <td>0</td>\n",
       "      <td>0.024691</td>\n",
       "      <td>1</td>\n",
       "      <td>0</td>\n",
       "      <td>PMDB</td>\n",
       "      <td>0</td>\n",
       "    </tr>\n",
       "    <tr>\n",
       "      <th>2</th>\n",
       "      <td>PL 4928/2013</td>\n",
       "      <td>564579</td>\n",
       "      <td>PSB</td>\n",
       "      <td>2013-02-04</td>\n",
       "      <td>2013</td>\n",
       "      <td>1</td>\n",
       "      <td>0</td>\n",
       "      <td>0.025341</td>\n",
       "      <td>1</td>\n",
       "      <td>0</td>\n",
       "      <td>PMDB</td>\n",
       "      <td>0</td>\n",
       "    </tr>\n",
       "    <tr>\n",
       "      <th>5</th>\n",
       "      <td>PL 4940/2013</td>\n",
       "      <td>564649</td>\n",
       "      <td>PSB</td>\n",
       "      <td>2013-02-05</td>\n",
       "      <td>2013</td>\n",
       "      <td>1</td>\n",
       "      <td>0</td>\n",
       "      <td>0.171540</td>\n",
       "      <td>1</td>\n",
       "      <td>0</td>\n",
       "      <td>PMDB</td>\n",
       "      <td>0</td>\n",
       "    </tr>\n",
       "    <tr>\n",
       "      <th>8</th>\n",
       "      <td>PL 4946/2013</td>\n",
       "      <td>564684</td>\n",
       "      <td>PR</td>\n",
       "      <td>2013-02-05</td>\n",
       "      <td>2013</td>\n",
       "      <td>1</td>\n",
       "      <td>0</td>\n",
       "      <td>0.079922</td>\n",
       "      <td>1</td>\n",
       "      <td>0</td>\n",
       "      <td>PMDB</td>\n",
       "      <td>0</td>\n",
       "    </tr>\n",
       "    <tr>\n",
       "      <th>...</th>\n",
       "      <td>...</td>\n",
       "      <td>...</td>\n",
       "      <td>...</td>\n",
       "      <td>...</td>\n",
       "      <td>...</td>\n",
       "      <td>...</td>\n",
       "      <td>...</td>\n",
       "      <td>...</td>\n",
       "      <td>...</td>\n",
       "      <td>...</td>\n",
       "      <td>...</td>\n",
       "      <td>...</td>\n",
       "    </tr>\n",
       "    <tr>\n",
       "      <th>7951</th>\n",
       "      <td>PL 1642/2024</td>\n",
       "      <td>2431965</td>\n",
       "      <td>PL</td>\n",
       "      <td>2024-05-08</td>\n",
       "      <td>2024</td>\n",
       "      <td>1</td>\n",
       "      <td>0</td>\n",
       "      <td>0.035088</td>\n",
       "      <td>0</td>\n",
       "      <td>1</td>\n",
       "      <td>PP</td>\n",
       "      <td>0</td>\n",
       "    </tr>\n",
       "    <tr>\n",
       "      <th>7953</th>\n",
       "      <td>PL 2078/2024</td>\n",
       "      <td>2436632</td>\n",
       "      <td>REPUBLICANOS</td>\n",
       "      <td>2024-05-27</td>\n",
       "      <td>2024</td>\n",
       "      <td>1</td>\n",
       "      <td>0</td>\n",
       "      <td>0.083821</td>\n",
       "      <td>0</td>\n",
       "      <td>0</td>\n",
       "      <td>PP</td>\n",
       "      <td>0</td>\n",
       "    </tr>\n",
       "    <tr>\n",
       "      <th>7954</th>\n",
       "      <td>PL 2065/2024</td>\n",
       "      <td>2436563</td>\n",
       "      <td>UNIÃO</td>\n",
       "      <td>2024-05-27</td>\n",
       "      <td>2024</td>\n",
       "      <td>1</td>\n",
       "      <td>0</td>\n",
       "      <td>0.085770</td>\n",
       "      <td>1</td>\n",
       "      <td>0</td>\n",
       "      <td>PP</td>\n",
       "      <td>0</td>\n",
       "    </tr>\n",
       "    <tr>\n",
       "      <th>7958</th>\n",
       "      <td>PL 3148/2024</td>\n",
       "      <td>2452628</td>\n",
       "      <td>PSB</td>\n",
       "      <td>2024-08-13</td>\n",
       "      <td>2024</td>\n",
       "      <td>1</td>\n",
       "      <td>1</td>\n",
       "      <td>0.132554</td>\n",
       "      <td>1</td>\n",
       "      <td>0</td>\n",
       "      <td>PP</td>\n",
       "      <td>0</td>\n",
       "    </tr>\n",
       "    <tr>\n",
       "      <th>7959</th>\n",
       "      <td>PL 3266/2024</td>\n",
       "      <td>2454377</td>\n",
       "      <td>UNIÃO</td>\n",
       "      <td>2024-08-21</td>\n",
       "      <td>2024</td>\n",
       "      <td>1</td>\n",
       "      <td>0</td>\n",
       "      <td>0.011696</td>\n",
       "      <td>1</td>\n",
       "      <td>0</td>\n",
       "      <td>PP</td>\n",
       "      <td>0</td>\n",
       "    </tr>\n",
       "  </tbody>\n",
       "</table>\n",
       "<p>4134 rows × 12 columns</p>\n",
       "</div>"
      ],
      "text/plain": [
       "     nomeProposicao  idProposicao  partidoAutor DataApresentacao   Ano  \\\n",
       "0      PL 4926/2013        564574            PR       2013-02-04  2013   \n",
       "1      PL 4931/2013        564595            PR       2013-02-04  2013   \n",
       "2      PL 4928/2013        564579           PSB       2013-02-04  2013   \n",
       "5      PL 4940/2013        564649           PSB       2013-02-05  2013   \n",
       "8      PL 4946/2013        564684            PR       2013-02-05  2013   \n",
       "...             ...           ...           ...              ...   ...   \n",
       "7951   PL 1642/2024       2431965            PL       2024-05-08  2024   \n",
       "7953   PL 2078/2024       2436632  REPUBLICANOS       2024-05-27  2024   \n",
       "7954   PL 2065/2024       2436563         UNIÃO       2024-05-27  2024   \n",
       "7958   PL 3148/2024       2452628           PSB       2024-08-13  2024   \n",
       "7959   PL 3266/2024       2454377         UNIÃO       2024-08-21  2024   \n",
       "\n",
       "      Desenvolvimento Social e Urbano  VirouLei  Influencia  Aliado  Oposição  \\\n",
       "0                                   1         0    0.077973       1         0   \n",
       "1                                   1         0    0.024691       1         0   \n",
       "2                                   1         0    0.025341       1         0   \n",
       "5                                   1         0    0.171540       1         0   \n",
       "8                                   1         0    0.079922       1         0   \n",
       "...                               ...       ...         ...     ...       ...   \n",
       "7951                                1         0    0.035088       0         1   \n",
       "7953                                1         0    0.083821       0         0   \n",
       "7954                                1         0    0.085770       1         0   \n",
       "7958                                1         1    0.132554       1         0   \n",
       "7959                                1         0    0.011696       1         0   \n",
       "\n",
       "     Partido_Pres_Cam  PPC_igual_partidoAutor  \n",
       "0                PMDB                       0  \n",
       "1                PMDB                       0  \n",
       "2                PMDB                       0  \n",
       "5                PMDB                       0  \n",
       "8                PMDB                       0  \n",
       "...               ...                     ...  \n",
       "7951               PP                       0  \n",
       "7953               PP                       0  \n",
       "7954               PP                       0  \n",
       "7958               PP                       0  \n",
       "7959               PP                       0  \n",
       "\n",
       "[4134 rows x 12 columns]"
      ]
     },
     "execution_count": 120,
     "metadata": {},
     "output_type": "execute_result"
    }
   ],
   "source": [
    "df = pd.read_csv('data\\proposicoes_2013-2024_final_pres_cam.csv')\n",
    "df = df[df['Desenvolvimento Social e Urbano'] == 1]\n",
    "df = df.drop(columns=['Administração e Políticas Públicas', 'Direitos e Justiça', 'Economia e Desenvolvimento Sustentável', 'Infraestrutura e Gestão de Recursos'])\n",
    "df"
   ]
  },
  {
   "cell_type": "markdown",
   "metadata": {},
   "source": [
    "- Analise"
   ]
  },
  {
   "cell_type": "code",
   "execution_count": 121,
   "metadata": {},
   "outputs": [
    {
     "data": {
      "text/plain": [
       "array(['PMDB', 'PP', 'DEM'], dtype=object)"
      ]
     },
     "execution_count": 121,
     "metadata": {},
     "output_type": "execute_result"
    }
   ],
   "source": [
    "df['Partido_Pres_Cam'].unique()"
   ]
  },
  {
   "cell_type": "code",
   "execution_count": 122,
   "metadata": {},
   "outputs": [
    {
     "data": {
      "text/plain": [
       "PPC_igual_partidoAutor\n",
       "0    3749\n",
       "1     385\n",
       "Name: count, dtype: int64"
      ]
     },
     "execution_count": 122,
     "metadata": {},
     "output_type": "execute_result"
    }
   ],
   "source": [
    "df['PPC_igual_partidoAutor'].value_counts()"
   ]
  },
  {
   "cell_type": "code",
   "execution_count": 123,
   "metadata": {},
   "outputs": [
    {
     "data": {
      "text/html": [
       "<div>\n",
       "<style scoped>\n",
       "    .dataframe tbody tr th:only-of-type {\n",
       "        vertical-align: middle;\n",
       "    }\n",
       "\n",
       "    .dataframe tbody tr th {\n",
       "        vertical-align: top;\n",
       "    }\n",
       "\n",
       "    .dataframe thead th {\n",
       "        text-align: right;\n",
       "    }\n",
       "</style>\n",
       "<table border=\"1\" class=\"dataframe\">\n",
       "  <thead>\n",
       "    <tr style=\"text-align: right;\">\n",
       "      <th></th>\n",
       "      <th>nomeProposicao</th>\n",
       "      <th>idProposicao</th>\n",
       "      <th>partidoAutor</th>\n",
       "      <th>DataApresentacao</th>\n",
       "      <th>Ano</th>\n",
       "      <th>Desenvolvimento Social e Urbano</th>\n",
       "      <th>Influencia</th>\n",
       "      <th>Aliado</th>\n",
       "      <th>Oposição</th>\n",
       "      <th>PPC_igual_partidoAutor</th>\n",
       "      <th>VirouLei</th>\n",
       "      <th>Partido_Pres_Cam</th>\n",
       "    </tr>\n",
       "  </thead>\n",
       "  <tbody>\n",
       "    <tr>\n",
       "      <th>0</th>\n",
       "      <td>PL 4926/2013</td>\n",
       "      <td>564574</td>\n",
       "      <td>PR</td>\n",
       "      <td>2013-02-04</td>\n",
       "      <td>2013</td>\n",
       "      <td>1</td>\n",
       "      <td>0.077973</td>\n",
       "      <td>1</td>\n",
       "      <td>0</td>\n",
       "      <td>0</td>\n",
       "      <td>0</td>\n",
       "      <td>PMDB</td>\n",
       "    </tr>\n",
       "    <tr>\n",
       "      <th>1</th>\n",
       "      <td>PL 4931/2013</td>\n",
       "      <td>564595</td>\n",
       "      <td>PR</td>\n",
       "      <td>2013-02-04</td>\n",
       "      <td>2013</td>\n",
       "      <td>1</td>\n",
       "      <td>0.024691</td>\n",
       "      <td>1</td>\n",
       "      <td>0</td>\n",
       "      <td>0</td>\n",
       "      <td>0</td>\n",
       "      <td>PMDB</td>\n",
       "    </tr>\n",
       "    <tr>\n",
       "      <th>2</th>\n",
       "      <td>PL 4928/2013</td>\n",
       "      <td>564579</td>\n",
       "      <td>PSB</td>\n",
       "      <td>2013-02-04</td>\n",
       "      <td>2013</td>\n",
       "      <td>1</td>\n",
       "      <td>0.025341</td>\n",
       "      <td>1</td>\n",
       "      <td>0</td>\n",
       "      <td>0</td>\n",
       "      <td>0</td>\n",
       "      <td>PMDB</td>\n",
       "    </tr>\n",
       "    <tr>\n",
       "      <th>5</th>\n",
       "      <td>PL 4940/2013</td>\n",
       "      <td>564649</td>\n",
       "      <td>PSB</td>\n",
       "      <td>2013-02-05</td>\n",
       "      <td>2013</td>\n",
       "      <td>1</td>\n",
       "      <td>0.171540</td>\n",
       "      <td>1</td>\n",
       "      <td>0</td>\n",
       "      <td>0</td>\n",
       "      <td>0</td>\n",
       "      <td>PMDB</td>\n",
       "    </tr>\n",
       "    <tr>\n",
       "      <th>8</th>\n",
       "      <td>PL 4946/2013</td>\n",
       "      <td>564684</td>\n",
       "      <td>PR</td>\n",
       "      <td>2013-02-05</td>\n",
       "      <td>2013</td>\n",
       "      <td>1</td>\n",
       "      <td>0.079922</td>\n",
       "      <td>1</td>\n",
       "      <td>0</td>\n",
       "      <td>0</td>\n",
       "      <td>0</td>\n",
       "      <td>PMDB</td>\n",
       "    </tr>\n",
       "    <tr>\n",
       "      <th>...</th>\n",
       "      <td>...</td>\n",
       "      <td>...</td>\n",
       "      <td>...</td>\n",
       "      <td>...</td>\n",
       "      <td>...</td>\n",
       "      <td>...</td>\n",
       "      <td>...</td>\n",
       "      <td>...</td>\n",
       "      <td>...</td>\n",
       "      <td>...</td>\n",
       "      <td>...</td>\n",
       "      <td>...</td>\n",
       "    </tr>\n",
       "    <tr>\n",
       "      <th>7951</th>\n",
       "      <td>PL 1642/2024</td>\n",
       "      <td>2431965</td>\n",
       "      <td>PL</td>\n",
       "      <td>2024-05-08</td>\n",
       "      <td>2024</td>\n",
       "      <td>1</td>\n",
       "      <td>0.035088</td>\n",
       "      <td>0</td>\n",
       "      <td>1</td>\n",
       "      <td>0</td>\n",
       "      <td>0</td>\n",
       "      <td>PP</td>\n",
       "    </tr>\n",
       "    <tr>\n",
       "      <th>7953</th>\n",
       "      <td>PL 2078/2024</td>\n",
       "      <td>2436632</td>\n",
       "      <td>REPUBLICANOS</td>\n",
       "      <td>2024-05-27</td>\n",
       "      <td>2024</td>\n",
       "      <td>1</td>\n",
       "      <td>0.083821</td>\n",
       "      <td>0</td>\n",
       "      <td>0</td>\n",
       "      <td>0</td>\n",
       "      <td>0</td>\n",
       "      <td>PP</td>\n",
       "    </tr>\n",
       "    <tr>\n",
       "      <th>7954</th>\n",
       "      <td>PL 2065/2024</td>\n",
       "      <td>2436563</td>\n",
       "      <td>UNIÃO</td>\n",
       "      <td>2024-05-27</td>\n",
       "      <td>2024</td>\n",
       "      <td>1</td>\n",
       "      <td>0.085770</td>\n",
       "      <td>1</td>\n",
       "      <td>0</td>\n",
       "      <td>0</td>\n",
       "      <td>0</td>\n",
       "      <td>PP</td>\n",
       "    </tr>\n",
       "    <tr>\n",
       "      <th>7958</th>\n",
       "      <td>PL 3148/2024</td>\n",
       "      <td>2452628</td>\n",
       "      <td>PSB</td>\n",
       "      <td>2024-08-13</td>\n",
       "      <td>2024</td>\n",
       "      <td>1</td>\n",
       "      <td>0.132554</td>\n",
       "      <td>1</td>\n",
       "      <td>0</td>\n",
       "      <td>0</td>\n",
       "      <td>1</td>\n",
       "      <td>PP</td>\n",
       "    </tr>\n",
       "    <tr>\n",
       "      <th>7959</th>\n",
       "      <td>PL 3266/2024</td>\n",
       "      <td>2454377</td>\n",
       "      <td>UNIÃO</td>\n",
       "      <td>2024-08-21</td>\n",
       "      <td>2024</td>\n",
       "      <td>1</td>\n",
       "      <td>0.011696</td>\n",
       "      <td>1</td>\n",
       "      <td>0</td>\n",
       "      <td>0</td>\n",
       "      <td>0</td>\n",
       "      <td>PP</td>\n",
       "    </tr>\n",
       "  </tbody>\n",
       "</table>\n",
       "<p>4134 rows × 12 columns</p>\n",
       "</div>"
      ],
      "text/plain": [
       "     nomeProposicao  idProposicao  partidoAutor DataApresentacao   Ano  \\\n",
       "0      PL 4926/2013        564574            PR       2013-02-04  2013   \n",
       "1      PL 4931/2013        564595            PR       2013-02-04  2013   \n",
       "2      PL 4928/2013        564579           PSB       2013-02-04  2013   \n",
       "5      PL 4940/2013        564649           PSB       2013-02-05  2013   \n",
       "8      PL 4946/2013        564684            PR       2013-02-05  2013   \n",
       "...             ...           ...           ...              ...   ...   \n",
       "7951   PL 1642/2024       2431965            PL       2024-05-08  2024   \n",
       "7953   PL 2078/2024       2436632  REPUBLICANOS       2024-05-27  2024   \n",
       "7954   PL 2065/2024       2436563         UNIÃO       2024-05-27  2024   \n",
       "7958   PL 3148/2024       2452628           PSB       2024-08-13  2024   \n",
       "7959   PL 3266/2024       2454377         UNIÃO       2024-08-21  2024   \n",
       "\n",
       "      Desenvolvimento Social e Urbano  Influencia  Aliado  Oposição  \\\n",
       "0                                   1    0.077973       1         0   \n",
       "1                                   1    0.024691       1         0   \n",
       "2                                   1    0.025341       1         0   \n",
       "5                                   1    0.171540       1         0   \n",
       "8                                   1    0.079922       1         0   \n",
       "...                               ...         ...     ...       ...   \n",
       "7951                                1    0.035088       0         1   \n",
       "7953                                1    0.083821       0         0   \n",
       "7954                                1    0.085770       1         0   \n",
       "7958                                1    0.132554       1         0   \n",
       "7959                                1    0.011696       1         0   \n",
       "\n",
       "      PPC_igual_partidoAutor  VirouLei Partido_Pres_Cam  \n",
       "0                          0         0             PMDB  \n",
       "1                          0         0             PMDB  \n",
       "2                          0         0             PMDB  \n",
       "5                          0         0             PMDB  \n",
       "8                          0         0             PMDB  \n",
       "...                      ...       ...              ...  \n",
       "7951                       0         0               PP  \n",
       "7953                       0         0               PP  \n",
       "7954                       0         0               PP  \n",
       "7958                       0         1               PP  \n",
       "7959                       0         0               PP  \n",
       "\n",
       "[4134 rows x 12 columns]"
      ]
     },
     "execution_count": 123,
     "metadata": {},
     "output_type": "execute_result"
    }
   ],
   "source": [
    "cols = [col for col in df.columns if col != 'VirouLei' and col != 'Partido_Pres_Cam'] + ['VirouLei'] + ['Partido_Pres_Cam']\n",
    "df = df[cols]\n",
    "df"
   ]
  },
  {
   "cell_type": "markdown",
   "metadata": {},
   "source": [
    "- Destacando 2024"
   ]
  },
  {
   "cell_type": "code",
   "execution_count": 124,
   "metadata": {},
   "outputs": [],
   "source": [
    "df_2024 = df[df['Ano'] == 2024]\n",
    "df = df[df['Ano'] != 2024]\n"
   ]
  },
  {
   "cell_type": "code",
   "execution_count": 125,
   "metadata": {},
   "outputs": [
    {
     "data": {
      "text/plain": [
       "VirouLei\n",
       "0    6\n",
       "1    2\n",
       "Name: count, dtype: int64"
      ]
     },
     "execution_count": 125,
     "metadata": {},
     "output_type": "execute_result"
    }
   ],
   "source": [
    "df_2024['VirouLei'].value_counts()"
   ]
  },
  {
   "cell_type": "code",
   "execution_count": 126,
   "metadata": {},
   "outputs": [
    {
     "data": {
      "text/plain": [
       "VirouLei\n",
       "0    3603\n",
       "1     523\n",
       "Name: count, dtype: int64"
      ]
     },
     "execution_count": 126,
     "metadata": {},
     "output_type": "execute_result"
    }
   ],
   "source": [
    "df['VirouLei'].value_counts()"
   ]
  },
  {
   "cell_type": "markdown",
   "metadata": {},
   "source": [
    "- Features e Rotúlo"
   ]
  },
  {
   "cell_type": "code",
   "execution_count": 127,
   "metadata": {},
   "outputs": [
    {
     "data": {
      "text/plain": [
       "['nomeProposicao',\n",
       " 'idProposicao',\n",
       " 'partidoAutor',\n",
       " 'DataApresentacao',\n",
       " 'Ano',\n",
       " 'Desenvolvimento Social e Urbano',\n",
       " 'Influencia',\n",
       " 'Aliado',\n",
       " 'Oposição',\n",
       " 'PPC_igual_partidoAutor',\n",
       " 'VirouLei',\n",
       " 'Partido_Pres_Cam']"
      ]
     },
     "execution_count": 127,
     "metadata": {},
     "output_type": "execute_result"
    }
   ],
   "source": [
    "colunas = df.columns.tolist()\n",
    "colunas"
   ]
  },
  {
   "cell_type": "code",
   "execution_count": 128,
   "metadata": {},
   "outputs": [
    {
     "data": {
      "text/html": [
       "<div>\n",
       "<style scoped>\n",
       "    .dataframe tbody tr th:only-of-type {\n",
       "        vertical-align: middle;\n",
       "    }\n",
       "\n",
       "    .dataframe tbody tr th {\n",
       "        vertical-align: top;\n",
       "    }\n",
       "\n",
       "    .dataframe thead th {\n",
       "        text-align: right;\n",
       "    }\n",
       "</style>\n",
       "<table border=\"1\" class=\"dataframe\">\n",
       "  <thead>\n",
       "    <tr style=\"text-align: right;\">\n",
       "      <th></th>\n",
       "      <th>Influencia</th>\n",
       "      <th>Aliado</th>\n",
       "      <th>Oposição</th>\n",
       "      <th>PPC_igual_partidoAutor</th>\n",
       "    </tr>\n",
       "  </thead>\n",
       "  <tbody>\n",
       "    <tr>\n",
       "      <th>0</th>\n",
       "      <td>0.077973</td>\n",
       "      <td>1</td>\n",
       "      <td>0</td>\n",
       "      <td>0</td>\n",
       "    </tr>\n",
       "    <tr>\n",
       "      <th>1</th>\n",
       "      <td>0.024691</td>\n",
       "      <td>1</td>\n",
       "      <td>0</td>\n",
       "      <td>0</td>\n",
       "    </tr>\n",
       "    <tr>\n",
       "      <th>2</th>\n",
       "      <td>0.025341</td>\n",
       "      <td>1</td>\n",
       "      <td>0</td>\n",
       "      <td>0</td>\n",
       "    </tr>\n",
       "    <tr>\n",
       "      <th>5</th>\n",
       "      <td>0.171540</td>\n",
       "      <td>1</td>\n",
       "      <td>0</td>\n",
       "      <td>0</td>\n",
       "    </tr>\n",
       "    <tr>\n",
       "      <th>8</th>\n",
       "      <td>0.079922</td>\n",
       "      <td>1</td>\n",
       "      <td>0</td>\n",
       "      <td>0</td>\n",
       "    </tr>\n",
       "    <tr>\n",
       "      <th>...</th>\n",
       "      <td>...</td>\n",
       "      <td>...</td>\n",
       "      <td>...</td>\n",
       "      <td>...</td>\n",
       "    </tr>\n",
       "    <tr>\n",
       "      <th>7934</th>\n",
       "      <td>0.132812</td>\n",
       "      <td>1</td>\n",
       "      <td>0</td>\n",
       "      <td>1</td>\n",
       "    </tr>\n",
       "    <tr>\n",
       "      <th>7935</th>\n",
       "      <td>0.115234</td>\n",
       "      <td>1</td>\n",
       "      <td>0</td>\n",
       "      <td>0</td>\n",
       "    </tr>\n",
       "    <tr>\n",
       "      <th>7936</th>\n",
       "      <td>0.080078</td>\n",
       "      <td>0</td>\n",
       "      <td>1</td>\n",
       "      <td>0</td>\n",
       "    </tr>\n",
       "    <tr>\n",
       "      <th>7937</th>\n",
       "      <td>0.029297</td>\n",
       "      <td>1</td>\n",
       "      <td>0</td>\n",
       "      <td>0</td>\n",
       "    </tr>\n",
       "    <tr>\n",
       "      <th>7940</th>\n",
       "      <td>0.132812</td>\n",
       "      <td>1</td>\n",
       "      <td>0</td>\n",
       "      <td>0</td>\n",
       "    </tr>\n",
       "  </tbody>\n",
       "</table>\n",
       "<p>4126 rows × 4 columns</p>\n",
       "</div>"
      ],
      "text/plain": [
       "      Influencia  Aliado  Oposição  PPC_igual_partidoAutor\n",
       "0       0.077973       1         0                       0\n",
       "1       0.024691       1         0                       0\n",
       "2       0.025341       1         0                       0\n",
       "5       0.171540       1         0                       0\n",
       "8       0.079922       1         0                       0\n",
       "...          ...     ...       ...                     ...\n",
       "7934    0.132812       1         0                       1\n",
       "7935    0.115234       1         0                       0\n",
       "7936    0.080078       0         1                       0\n",
       "7937    0.029297       1         0                       0\n",
       "7940    0.132812       1         0                       0\n",
       "\n",
       "[4126 rows x 4 columns]"
      ]
     },
     "execution_count": 128,
     "metadata": {},
     "output_type": "execute_result"
    }
   ],
   "source": [
    "x = df[colunas[6:-2]]\n",
    "y = df[colunas[-2]]\n",
    "\n",
    "x"
   ]
  },
  {
   "cell_type": "markdown",
   "metadata": {},
   "source": [
    "- undersampling"
   ]
  },
  {
   "cell_type": "code",
   "execution_count": 313,
   "metadata": {},
   "outputs": [],
   "source": [
    "#undersample = RandomUnderSampler(sampling_strategy=1.0) #para igualar as classes\n",
    "#undersample = RandomUnderSampler(sampling_strategy=0.428) #70% 30%\n",
    "undersample = RandomUnderSampler(sampling_strategy=0.528)\n",
    "\n",
    "x_sample, y_sample = undersample.fit_resample(x, y)"
   ]
  },
  {
   "cell_type": "code",
   "execution_count": 314,
   "metadata": {},
   "outputs": [
    {
     "data": {
      "text/plain": [
       "VirouLei\n",
       "0    990\n",
       "1    523\n",
       "Name: count, dtype: int64"
      ]
     },
     "execution_count": 314,
     "metadata": {},
     "output_type": "execute_result"
    }
   ],
   "source": [
    "y_sample.value_counts()"
   ]
  },
  {
   "cell_type": "code",
   "execution_count": 315,
   "metadata": {},
   "outputs": [
    {
     "data": {
      "text/plain": [
       "True"
      ]
     },
     "execution_count": 315,
     "metadata": {},
     "output_type": "execute_result"
    }
   ],
   "source": [
    "indices_iguais = x_sample.index.equals(y_sample.index)\n",
    "indices_iguais"
   ]
  },
  {
   "cell_type": "code",
   "execution_count": 316,
   "metadata": {},
   "outputs": [
    {
     "data": {
      "text/html": [
       "<div>\n",
       "<style scoped>\n",
       "    .dataframe tbody tr th:only-of-type {\n",
       "        vertical-align: middle;\n",
       "    }\n",
       "\n",
       "    .dataframe tbody tr th {\n",
       "        vertical-align: top;\n",
       "    }\n",
       "\n",
       "    .dataframe thead th {\n",
       "        text-align: right;\n",
       "    }\n",
       "</style>\n",
       "<table border=\"1\" class=\"dataframe\">\n",
       "  <thead>\n",
       "    <tr style=\"text-align: right;\">\n",
       "      <th></th>\n",
       "      <th>Influencia</th>\n",
       "      <th>Aliado</th>\n",
       "      <th>Oposição</th>\n",
       "      <th>PPC_igual_partidoAutor</th>\n",
       "    </tr>\n",
       "  </thead>\n",
       "  <tbody>\n",
       "    <tr>\n",
       "      <th>3425</th>\n",
       "      <td>0.067251</td>\n",
       "      <td>0</td>\n",
       "      <td>0</td>\n",
       "      <td>0</td>\n",
       "    </tr>\n",
       "    <tr>\n",
       "      <th>7294</th>\n",
       "      <td>0.015595</td>\n",
       "      <td>0</td>\n",
       "      <td>1</td>\n",
       "      <td>0</td>\n",
       "    </tr>\n",
       "    <tr>\n",
       "      <th>364</th>\n",
       "      <td>0.171540</td>\n",
       "      <td>1</td>\n",
       "      <td>0</td>\n",
       "      <td>1</td>\n",
       "    </tr>\n",
       "    <tr>\n",
       "      <th>7252</th>\n",
       "      <td>0.013645</td>\n",
       "      <td>0</td>\n",
       "      <td>1</td>\n",
       "      <td>0</td>\n",
       "    </tr>\n",
       "    <tr>\n",
       "      <th>1653</th>\n",
       "      <td>0.008230</td>\n",
       "      <td>0</td>\n",
       "      <td>1</td>\n",
       "      <td>0</td>\n",
       "    </tr>\n",
       "    <tr>\n",
       "      <th>...</th>\n",
       "      <td>...</td>\n",
       "      <td>...</td>\n",
       "      <td>...</td>\n",
       "      <td>...</td>\n",
       "    </tr>\n",
       "    <tr>\n",
       "      <th>7923</th>\n",
       "      <td>0.115234</td>\n",
       "      <td>1</td>\n",
       "      <td>0</td>\n",
       "      <td>0</td>\n",
       "    </tr>\n",
       "    <tr>\n",
       "      <th>7934</th>\n",
       "      <td>0.132812</td>\n",
       "      <td>1</td>\n",
       "      <td>0</td>\n",
       "      <td>1</td>\n",
       "    </tr>\n",
       "    <tr>\n",
       "      <th>7935</th>\n",
       "      <td>0.115234</td>\n",
       "      <td>1</td>\n",
       "      <td>0</td>\n",
       "      <td>0</td>\n",
       "    </tr>\n",
       "    <tr>\n",
       "      <th>7936</th>\n",
       "      <td>0.080078</td>\n",
       "      <td>0</td>\n",
       "      <td>1</td>\n",
       "      <td>0</td>\n",
       "    </tr>\n",
       "    <tr>\n",
       "      <th>7937</th>\n",
       "      <td>0.029297</td>\n",
       "      <td>1</td>\n",
       "      <td>0</td>\n",
       "      <td>0</td>\n",
       "    </tr>\n",
       "  </tbody>\n",
       "</table>\n",
       "<p>1513 rows × 4 columns</p>\n",
       "</div>"
      ],
      "text/plain": [
       "      Influencia  Aliado  Oposição  PPC_igual_partidoAutor\n",
       "3425    0.067251       0         0                       0\n",
       "7294    0.015595       0         1                       0\n",
       "364     0.171540       1         0                       1\n",
       "7252    0.013645       0         1                       0\n",
       "1653    0.008230       0         1                       0\n",
       "...          ...     ...       ...                     ...\n",
       "7923    0.115234       1         0                       0\n",
       "7934    0.132812       1         0                       1\n",
       "7935    0.115234       1         0                       0\n",
       "7936    0.080078       0         1                       0\n",
       "7937    0.029297       1         0                       0\n",
       "\n",
       "[1513 rows x 4 columns]"
      ]
     },
     "execution_count": 316,
     "metadata": {},
     "output_type": "execute_result"
    }
   ],
   "source": [
    "x_sample"
   ]
  },
  {
   "cell_type": "code",
   "execution_count": 317,
   "metadata": {},
   "outputs": [],
   "source": [
    "x_train_s, x_test_s, y_train_s, y_test_s = train_test_split(x_sample, y_sample, test_size=0.3, random_state=42)"
   ]
  },
  {
   "cell_type": "code",
   "execution_count": 318,
   "metadata": {},
   "outputs": [],
   "source": [
    "#penalização customizada\n",
    "#class_w = {0: 20, 1: 20}\n",
    "#clf_s = DecisionTreeClassifier(class_weight=class_w)\n",
    "\n",
    "clf_s = DecisionTreeClassifier(class_weight='balanced')\n",
    "\n",
    "#clf_s = DecisionTreeClassifier()\n",
    "clf_s.fit(x_train_s, y_train_s)\n",
    "\n",
    "y_pred_prob = clf_s.predict_proba(x_test_s)\n",
    "y_pred_s = clf_s.predict(x_test_s)"
   ]
  },
  {
   "cell_type": "markdown",
   "metadata": {},
   "source": [
    "- verificando overfitting"
   ]
  },
  {
   "cell_type": "code",
   "execution_count": 319,
   "metadata": {},
   "outputs": [
    {
     "name": "stdout",
     "output_type": "stream",
     "text": [
      "Acurácia no treino: 0.7072710103871577\n",
      "Acurácia no teste: 0.5638766519823789\n"
     ]
    }
   ],
   "source": [
    "y_train_pred = clf_s.predict(x_train_s)\n",
    "train_accuracy = accuracy_score(y_train_s, y_train_pred)\n",
    "\n",
    "test_accuracy = accuracy_score(y_test_s, y_pred_s)\n",
    "\n",
    "print(f\"Acurácia no treino: {train_accuracy}\")\n",
    "print(f\"Acurácia no teste: {test_accuracy}\")"
   ]
  },
  {
   "cell_type": "code",
   "execution_count": 320,
   "metadata": {},
   "outputs": [
    {
     "name": "stdout",
     "output_type": "stream",
     "text": [
      "Profundidade da árvore: 18\n"
     ]
    }
   ],
   "source": [
    "tree_depth = clf_s.tree_.max_depth\n",
    "print(f\"Profundidade da árvore: {tree_depth}\")"
   ]
  },
  {
   "cell_type": "markdown",
   "metadata": {},
   "source": [
    "- Limitando a probabilidade"
   ]
  },
  {
   "cell_type": "code",
   "execution_count": 321,
   "metadata": {},
   "outputs": [
    {
     "name": "stdout",
     "output_type": "stream",
     "text": [
      "Acurácia no treino com limite de profundidade: 0.6713881019830028\n",
      "Acurácia no teste com limite de profundidade: 0.6431718061674009\n",
      "Acurácia do modelo: 64.32%\n"
     ]
    }
   ],
   "source": [
    "clf = DecisionTreeClassifier(max_depth=5, random_state=42)\n",
    "clf.fit(x_train_s, y_train_s)\n",
    "\n",
    "y_pred_lim = clf.predict(x_test_s)\n",
    "lim_accuracy = accuracy_score(y_test_s, y_pred_lim)\n",
    "\n",
    "y_train_pred_lim = clf.predict(x_train_s)\n",
    "train_accuracy_lim = accuracy_score(y_train_s, y_train_pred_lim)\n",
    "\n",
    "print(f\"Acurácia no treino com limite de profundidade: {train_accuracy_lim}\")\n",
    "print(f\"Acurácia no teste com limite de profundidade: {lim_accuracy}\")\n",
    "\n",
    "print(f'Acurácia do modelo: {lim_accuracy*100:.2f}%')"
   ]
  },
  {
   "cell_type": "code",
   "execution_count": 322,
   "metadata": {},
   "outputs": [
    {
     "name": "stdout",
     "output_type": "stream",
     "text": [
      "Profundidade da árvore: 5\n"
     ]
    }
   ],
   "source": [
    "tree_depth = clf.tree_.max_depth\n",
    "print(f\"Profundidade da árvore: {tree_depth}\")"
   ]
  },
  {
   "cell_type": "markdown",
   "metadata": {},
   "source": [
    "- Visualização"
   ]
  },
  {
   "cell_type": "code",
   "execution_count": 323,
   "metadata": {},
   "outputs": [
    {
     "name": "stdout",
     "output_type": "stream",
     "text": [
      "Com undersampling\n",
      "              precision    recall  f1-score   support\n",
      "\n",
      "           0       0.68      0.63      0.66       297\n",
      "           1       0.38      0.43      0.41       157\n",
      "\n",
      "    accuracy                           0.56       454\n",
      "   macro avg       0.53      0.53      0.53       454\n",
      "weighted avg       0.58      0.56      0.57       454\n",
      "\n"
     ]
    }
   ],
   "source": [
    "print('Com undersampling')\n",
    "print(classification_report(y_test_s, y_pred_s))"
   ]
  },
  {
   "cell_type": "code",
   "execution_count": 324,
   "metadata": {},
   "outputs": [
    {
     "data": {
      "image/png": "[encoded data removed]",
      "text/plain": [
       "<Figure size 1000x700 with 2 Axes>"
      ]
     },
     "metadata": {},
     "output_type": "display_data"
    }
   ],
   "source": [
    "cm = confusion_matrix(y_test_s, y_pred_s)\n",
    "plt.figure(figsize=(10, 7))\n",
    "sns.heatmap(cm, annot=True, fmt='d', cmap='Blues')\n",
    "plt.xlabel('Predição')\n",
    "plt.ylabel('Valores Reais')\n",
    "plt.title('Matriz de Confusão com undersampling')\n",
    "plt.show()"
   ]
  },
  {
   "cell_type": "code",
   "execution_count": 325,
   "metadata": {},
   "outputs": [
    {
     "data": {
      "image/png": "[encoded data removed]",
      "text/plain": [
       "<Figure size 1200x800 with 2 Axes>"
      ]
     },
     "metadata": {},
     "output_type": "display_data"
    }
   ],
   "source": [
    "correlation_matrix = x.corr()\n",
    "\n",
    "plt.figure(figsize=(12, 8))\n",
    "sns.heatmap(correlation_matrix, annot=True, cmap='coolwarm', cbar=True)\n",
    "plt.title('Mapa de Calor das Correlações')\n",
    "plt.show()"
   ]
  },
  {
   "cell_type": "code",
   "execution_count": 326,
   "metadata": {},
   "outputs": [
    {
     "data": {
      "image/png": "[encoded data removed]",
      "text/plain": [
       "<Figure size 1000x200 with 2 Axes>"
      ]
     },
     "metadata": {},
     "output_type": "display_data"
    }
   ],
   "source": [
    "feature_names = x.columns\n",
    "importances = clf_s.feature_importances_\n",
    "\n",
    "importance_df = pd.DataFrame(importances.reshape(1, -1), columns=feature_names)\n",
    "\n",
    "plt.figure(figsize=(10, 2))\n",
    "sns.heatmap(importance_df, annot=True, cmap=\"YlGnBu\", cbar=True, xticklabels=feature_names, yticklabels=[\"Importance\"])\n",
    "plt.title('Feature Importance Heatmap')\n",
    "plt.xlabel('Features')\n",
    "plt.show()"
   ]
  },
  {
   "cell_type": "code",
   "execution_count": 327,
   "metadata": {},
   "outputs": [
    {
     "data": {
      "text/plain": [
       "array([[ 0.52101149, -0.13007302],\n",
       "       [ 0.52099269, -0.12994276],\n",
       "       [ 0.52099292, -0.12994435],\n",
       "       ...,\n",
       "       [-0.88796071, -0.01259779],\n",
       "       [ 0.52099431, -0.12995402],\n",
       "       [ 0.52103084, -0.13020709]])"
      ]
     },
     "execution_count": 327,
     "metadata": {},
     "output_type": "execute_result"
    }
   ],
   "source": [
    "from sklearn.decomposition import PCA\n",
    "\n",
    "pca = PCA(n_components=2)\n",
    "principal_components = pca.fit_transform(x)\n",
    "\n",
    "principal_components"
   ]
  },
  {
   "cell_type": "code",
   "execution_count": 328,
   "metadata": {},
   "outputs": [
    {
     "data": {
      "image/png": "[encoded data removed]",
      "text/plain": [
       "<Figure size 800x600 with 1 Axes>"
      ]
     },
     "metadata": {},
     "output_type": "display_data"
    }
   ],
   "source": [
    "plt.figure(figsize=(8, 6))\n",
    "plt.scatter(principal_components[:, 0], principal_components[:, 1], c=y, cmap='spring')\n",
    "plt.title('PCA - Componentes Principais')\n",
    "plt.xlabel('Primeiro Componente Principal')\n",
    "plt.ylabel('Segundo Componente Principal')\n",
    "plt.show()"
   ]
  }
 ],
 "metadata": {
  "kernelspec": {
   "display_name": "Python 3",
   "language": "python",
   "name": "python3"
  },
  "language_info": {
   "codemirror_mode": {
    "name": "ipython",
    "version": 3
   },
   "file_extension": ".py",
   "mimetype": "text/x-python",
   "name": "python",
   "nbconvert_exporter": "python",
   "pygments_lexer": "ipython3",
   "version": "3.11.9"
  }
 },
 "nbformat": 4,
 "nbformat_minor": 2
}
