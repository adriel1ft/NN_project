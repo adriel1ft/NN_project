{
 "cells": [
  {
   "cell_type": "code",
   "execution_count": 2,
   "metadata": {},
   "outputs": [],
   "source": [
    "import pandas as pd\n",
    "import numpy as np\n",
    "import os\n",
    "import matplotlib.pyplot as plt"
   ]
  },
  {
   "cell_type": "markdown",
   "metadata": {},
   "source": [
    "Passos desse notebook\n",
    "\n",
    "1. Merge de datasets\n",
    "\n",
    "2. Transformar colunas\n",
    "\n",
    "- Variáveis Categóricas (Partido, Tema, RegimeTramitacao, Ano)\n",
    "    - One-Hot Encoding\n",
    "- Variáveis Numéricas (Quantidade de votos do partido X)\n",
    "    - Normalizar"
   ]
  },
  {
   "cell_type": "code",
   "execution_count": 64,
   "metadata": {},
   "outputs": [],
   "source": [
    "ListaProposicoes = os.path.join('data', 'ListaProposicoes_2013_2024.csv')\n",
    "ListaProposicoesVotadas_Plenario = os.path.join('data', 'ListaProposicoesVotadasPlenario_2013_2024.csv')\n",
    "ObterProposicoes = os.path.join('data', 'ObterProposicoes_2013_2024.csv')\n",
    "VotacoesProposicoes = os.path.join('data', 'VotacoesProposicoes_2013_2024.csv')"
   ]
  },
  {
   "cell_type": "code",
   "execution_count": 65,
   "metadata": {},
   "outputs": [],
   "source": [
    "df = pd.read_csv(ObterProposicoes)\n",
    "df_pvp = pd.read_csv(ListaProposicoesVotadas_Plenario)\n",
    "df_vp = pd.read_csv(VotacoesProposicoes)\n",
    "df_lp = pd.read_csv(ListaProposicoes)"
   ]
  },
  {
   "cell_type": "code",
   "execution_count": 66,
   "metadata": {},
   "outputs": [
    {
     "name": "stdout",
     "output_type": "stream",
     "text": [
      "Quantidade de linhas em df:  3380\n",
      "Quantidade de linhas em df_lp:  39701\n",
      "Quantidade de colunas em df:  21\n",
      "Quantidade de colunas em df_lp:  31\n"
     ]
    }
   ],
   "source": [
    "print(\"Quantidade de linhas em df: \", df.shape[0])\n",
    "print(\"Quantidade de linhas em df_lp: \", df_lp.shape[0])  \n",
    "\n",
    "print(\"Quantidade de colunas em df: \", df.shape[1])\n",
    "print(\"Quantidade de colunas em df_lp: \", df_lp.shape[1]) "
   ]
  },
  {
   "cell_type": "code",
   "execution_count": 71,
   "metadata": {},
   "outputs": [
    {
     "data": {
      "text/plain": [
       "Index(['resumo', 'data', 'hora', 'objvotacao', 'codsessao', 'nomeproposicao',\n",
       "       'bancada_sigla', 'bancada_orientacao', 'deputado_nome',\n",
       "       'deputado_idecadastro', 'deputado_partido', 'deputado_uf',\n",
       "       'deputado_voto'],\n",
       "      dtype='object')"
      ]
     },
     "execution_count": 71,
     "metadata": {},
     "output_type": "execute_result"
    }
   ],
   "source": [
    "df_vp.columns"
   ]
  },
  {
   "cell_type": "code",
   "execution_count": 11,
   "metadata": {},
   "outputs": [
    {
     "data": {
      "text/plain": [
       "Index(['nomeProposicao', 'idProposicao', 'idProposicaoPrincipal',\n",
       "       'nomeProposicaoOrigem', 'tipoProposicao', 'tema', 'Ementa',\n",
       "       'ExplicacaoEmenta', 'Autor', 'ideCadastro', 'ufAutor', 'partidoAutor',\n",
       "       'DataApresentacao', 'RegimeTramitacao', 'UltimoDespacho', 'Apreciacao',\n",
       "       'Indexacao', 'Situacao', 'LinkInteiroTeor', 'apensadas',\n",
       "       'apensadas_proposicao'],\n",
       "      dtype='object')"
      ]
     },
     "execution_count": 11,
     "metadata": {},
     "output_type": "execute_result"
    }
   ],
   "source": [
    "df.columns"
   ]
  },
  {
   "cell_type": "code",
   "execution_count": null,
   "metadata": {},
   "outputs": [],
   "source": [
    "df.info()"
   ]
  },
  {
   "cell_type": "code",
   "execution_count": 56,
   "metadata": {},
   "outputs": [],
   "source": [
    "df['DataApresentacao'] = pd.to_datetime(df['DataApresentacao'], format='%d/%m/%Y')"
   ]
  },
  {
   "cell_type": "code",
   "execution_count": 58,
   "metadata": {},
   "outputs": [
    {
     "data": {
      "text/plain": [
       "DataApresentacao\n",
       "2024-01-03      1\n",
       "2024-01-10      1\n",
       "2024-01-11      1\n",
       "2024-02-02      1\n",
       "2024-02-05    115\n",
       "             ... \n",
       "2024-10-08     35\n",
       "2024-10-09     14\n",
       "2024-10-10     33\n",
       "2024-10-11     12\n",
       "2024-10-14     13\n",
       "Name: count, Length: 191, dtype: int64"
      ]
     },
     "execution_count": 58,
     "metadata": {},
     "output_type": "execute_result"
    }
   ],
   "source": [
    "df.DataApresentacao.value_counts().sort_index()"
   ]
  },
  {
   "cell_type": "markdown",
   "metadata": {},
   "source": [
    "Colunas selecionadas para ficar:"
   ]
  },
  {
   "cell_type": "code",
   "execution_count": 37,
   "metadata": {},
   "outputs": [],
   "source": [
    "df = df[[\"nomeProposicao\", \"idProposicao\", \"tema\", \"partidoAutor\", \"DataApresentacao\", \"RegimeTramitacao\"]]"
   ]
  },
  {
   "cell_type": "code",
   "execution_count": 43,
   "metadata": {},
   "outputs": [
    {
     "name": "stdout",
     "output_type": "stream",
     "text": [
      "Quantidade de linhas em df:  3380\n",
      "Quantidade de linhas em df_lp:  3380\n"
     ]
    }
   ],
   "source": []
  }
 ],
 "metadata": {
  "kernelspec": {
   "display_name": "base",
   "language": "python",
   "name": "python3"
  },
  "language_info": {
   "codemirror_mode": {
    "name": "ipython",
    "version": 3
   },
   "file_extension": ".py",
   "mimetype": "text/x-python",
   "name": "python",
   "nbconvert_exporter": "python",
   "pygments_lexer": "ipython3",
   "version": "3.11.5"
  }
 },
 "nbformat": 4,
 "nbformat_minor": 2
}
