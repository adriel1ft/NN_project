{
 "cells": [
  {
   "cell_type": "code",
   "execution_count": 1,
   "metadata": {},
   "outputs": [],
   "source": [
    "import pandas as pd\n",
    "import numpy as np\n",
    "import os\n",
    "import matplotlib.pyplot as plt"
   ]
  },
  {
   "cell_type": "markdown",
   "metadata": {},
   "source": [
    "Passos desse notebook\n",
    "\n",
    "1. Merge de datasets\n",
    "\n",
    "2. Transformar colunas\n",
    "\n",
    "- Variáveis Categóricas (Partido, Tema, RegimeTramitacao, Ano)\n",
    "    - One-Hot Encoding\n",
    "- Variáveis Numéricas (Quantidade de votos do partido X)\n",
    "    - Normalizar"
   ]
  },
  {
   "cell_type": "code",
   "execution_count": 15,
   "metadata": {},
   "outputs": [],
   "source": [
    "ListaProposicoes = os.path.join('data', 'ListaProposicoes_2013_2024.csv')\n",
    "ListaProposicoesVotadas_Plenario = os.path.join('data', 'ListaProposicoesVotadasPlenario_2013_2024.csv')\n",
    "ObterProposicoes = os.path.join('data', 'ObterProposicoes_2013_2024.csv')\n",
    "ObterProposicoes_2013 = os.path.join('data', 'obter_proposicoes' ,'ObterProposicoes_2013.csv')\n",
    "VotacoesProposicoes = os.path.join('data', 'VotacoesProposicoes_2013_2024.csv')"
   ]
  },
  {
   "cell_type": "code",
   "execution_count": 9,
   "metadata": {},
   "outputs": [],
   "source": [
    "df = pd.read_csv(ObterProposicoes)\n",
    "df_pvp = pd.read_csv(ListaProposicoesVotadas_Plenario)\n",
    "df_vp = pd.read_csv(VotacoesProposicoes)\n",
    "df_lp = pd.read_csv(ListaProposicoes)"
   ]
  },
  {
   "cell_type": "code",
   "execution_count": 10,
   "metadata": {},
   "outputs": [
    {
     "name": "stdout",
     "output_type": "stream",
     "text": [
      "Quantidade de linhas em df:  132399\n",
      "Quantidade de linhas em df_lp:  39701\n",
      "Quantidade de colunas em df:  21\n",
      "Quantidade de colunas em df_lp:  31\n"
     ]
    }
   ],
   "source": [
    "print(\"Quantidade de linhas em df: \", df.shape[0])\n",
    "print(\"Quantidade de linhas em df_lp: \", df_lp.shape[0])  \n",
    "\n",
    "print(\"Quantidade de colunas em df: \", df.shape[1])\n",
    "print(\"Quantidade de colunas em df_lp: \", df_lp.shape[1]) "
   ]
  },
  {
   "cell_type": "code",
   "execution_count": 13,
   "metadata": {},
   "outputs": [
    {
     "data": {
      "text/plain": [
       "39701"
      ]
     },
     "execution_count": 13,
     "metadata": {},
     "output_type": "execute_result"
    }
   ],
   "source": [
    "df.idProposicao.nunique()"
   ]
  },
  {
   "cell_type": "code",
   "execution_count": 21,
   "metadata": {},
   "outputs": [
    {
     "name": "stdout",
     "output_type": "stream",
     "text": [
      "12832     605259\n",
      "12833     605279\n",
      "12834     605290\n",
      "12835     605291\n",
      "12836     605307\n",
      "           ...  \n",
      "132394    574182\n",
      "132395    569556\n",
      "132396    568561\n",
      "132397    568597\n",
      "132398    565698\n",
      "Name: idProposicao, Length: 92698, dtype: int64\n"
     ]
    }
   ],
   "source": [
    "# Imprimir valores duplicados na coluna 'idProposicao'\n",
    "duplicated_ids = df[df['idProposicao'].duplicated()]['idProposicao']\n",
    "print(duplicated_ids)"
   ]
  },
  {
   "cell_type": "markdown",
   "metadata": {},
   "source": [
    "## Removendo duplicatas\n",
    "\n",
    "Devido ao processamento paralelo das requisições, alguns dados foram salvos mais de uma vez com base no ID. Para garantir a integridade dos dados, as duplicatas serão eliminadas.\n"
   ]
  },
  {
   "cell_type": "code",
   "execution_count": 25,
   "metadata": {},
   "outputs": [],
   "source": [
    "duplicated_ids = df[df['idProposicao'].duplicated()]['idProposicao']\n",
    "#print(duplicated_ids)\n",
    "\n",
    "if duplicated_ids.any():\n",
    "    df = df.drop_duplicates(subset='idProposicao')\n",
    "\n",
    "#print(df)"
   ]
  },
  {
   "cell_type": "code",
   "execution_count": 11,
   "metadata": {},
   "outputs": [
    {
     "data": {
      "text/plain": [
       "Index(['nomeProposicao', 'idProposicao', 'idProposicaoPrincipal',\n",
       "       'nomeProposicaoOrigem', 'tipoProposicao', 'tema', 'Ementa',\n",
       "       'ExplicacaoEmenta', 'Autor', 'ideCadastro', 'ufAutor', 'partidoAutor',\n",
       "       'DataApresentacao', 'RegimeTramitacao', 'UltimoDespacho', 'Apreciacao',\n",
       "       'Indexacao', 'Situacao', 'LinkInteiroTeor', 'apensadas',\n",
       "       'apensadas_proposicao'],\n",
       "      dtype='object')"
      ]
     },
     "execution_count": 11,
     "metadata": {},
     "output_type": "execute_result"
    }
   ],
   "source": [
    "df.columns"
   ]
  },
  {
   "cell_type": "code",
   "execution_count": null,
   "metadata": {},
   "outputs": [],
   "source": [
    "df_tran = df[df.Situacao.str.contains('Tran')]\n",
    "df_tran"
   ]
  },
  {
   "cell_type": "code",
   "execution_count": 47,
   "metadata": {},
   "outputs": [
    {
     "name": "stderr",
     "output_type": "stream",
     "text": [
      "/tmp/ipykernel_101418/3532351135.py:1: SettingWithCopyWarning: \n",
      "A value is trying to be set on a copy of a slice from a DataFrame.\n",
      "Try using .loc[row_indexer,col_indexer] = value instead\n",
      "\n",
      "See the caveats in the documentation: https://pandas.pydata.org/pandas-docs/stable/user_guide/indexing.html#returning-a-view-versus-a-copy\n",
      "  df['DataApresentacao'] = pd.to_datetime(df['DataApresentacao'], format='%d/%m/%Y')\n"
     ]
    }
   ],
   "source": [
    "df['DataApresentacao'] = pd.to_datetime(df['DataApresentacao'], format='%d/%m/%Y')"
   ]
  },
  {
   "cell_type": "code",
   "execution_count": 48,
   "metadata": {},
   "outputs": [
    {
     "data": {
      "text/plain": [
       "DataApresentacao\n",
       "2013-02-04    13\n",
       "2013-02-05    20\n",
       "2013-02-06    11\n",
       "2013-02-07     5\n",
       "2013-02-08     1\n",
       "              ..\n",
       "2024-10-09    14\n",
       "2024-10-10    33\n",
       "2024-10-11    12\n",
       "2024-10-14    14\n",
       "2024-10-15    24\n",
       "Name: count, Length: 2344, dtype: int64"
      ]
     },
     "execution_count": 48,
     "metadata": {},
     "output_type": "execute_result"
    }
   ],
   "source": [
    "df.DataApresentacao.value_counts().sort_index()"
   ]
  },
  {
   "cell_type": "markdown",
   "metadata": {},
   "source": [
    "dv_vp\n",
    "\n",
    "Tem algo errado.\n"
   ]
  },
  {
   "cell_type": "code",
   "execution_count": 51,
   "metadata": {},
   "outputs": [
    {
     "data": {
      "text/plain": [
       "nomeproposicao\n",
       "PL 3729/2004                                 2772\n",
       "PL 8939/2017                                 2700\n",
       "PL 3261/2019                                 2592\n",
       "PL 5029/2019 (Nº Anterior: PL 11021/2018)    2171\n",
       "PL 5735/2013                                 2140\n",
       "                                             ... \n",
       "PL 1847/2024                                   11\n",
       "PL 3/2024                                       9\n",
       "PL 858/2024                                     8\n",
       "PL 1213/2024                                    5\n",
       "PL 3117/2024                                    4\n",
       "Name: count, Length: 243, dtype: int64"
      ]
     },
     "execution_count": 51,
     "metadata": {},
     "output_type": "execute_result"
    }
   ],
   "source": [
    "df_vp.nomeproposicao.value_counts()"
   ]
  },
  {
   "cell_type": "code",
   "execution_count": 54,
   "metadata": {},
   "outputs": [
    {
     "data": {
      "text/html": [
       "<div>\n",
       "<style scoped>\n",
       "    .dataframe tbody tr th:only-of-type {\n",
       "        vertical-align: middle;\n",
       "    }\n",
       "\n",
       "    .dataframe tbody tr th {\n",
       "        vertical-align: top;\n",
       "    }\n",
       "\n",
       "    .dataframe thead th {\n",
       "        text-align: right;\n",
       "    }\n",
       "</style>\n",
       "<table border=\"1\" class=\"dataframe\">\n",
       "  <thead>\n",
       "    <tr style=\"text-align: right;\">\n",
       "      <th></th>\n",
       "      <th>resumo</th>\n",
       "      <th>data</th>\n",
       "      <th>hora</th>\n",
       "      <th>objvotacao</th>\n",
       "      <th>codsessao</th>\n",
       "      <th>nomeproposicao</th>\n",
       "      <th>bancada_sigla</th>\n",
       "      <th>bancada_orientacao</th>\n",
       "      <th>deputado_nome</th>\n",
       "      <th>deputado_idecadastro</th>\n",
       "      <th>deputado_partido</th>\n",
       "      <th>deputado_uf</th>\n",
       "      <th>deputado_voto</th>\n",
       "    </tr>\n",
       "  </thead>\n",
       "  <tbody>\n",
       "    <tr>\n",
       "      <th>0</th>\n",
       "      <td>Mantido o texto. Sim: 268; não: 62; abstenção:...</td>\n",
       "      <td>9/7/2013</td>\n",
       "      <td>23:02</td>\n",
       "      <td>DVS - DEM - § 2º DO ART. 23 DO SUBSTITUTIVO DO...</td>\n",
       "      <td>4976</td>\n",
       "      <td>PL 4529/2004</td>\n",
       "      <td>Minoria</td>\n",
       "      <td>Liberado</td>\n",
       "      <td>Pedro Guerra</td>\n",
       "      <td>174314</td>\n",
       "      <td>PSD</td>\n",
       "      <td>PR</td>\n",
       "      <td>Sim</td>\n",
       "    </tr>\n",
       "    <tr>\n",
       "      <th>1</th>\n",
       "      <td>Mantido o texto. Sim: 268; não: 62; abstenção:...</td>\n",
       "      <td>9/7/2013</td>\n",
       "      <td>23:02</td>\n",
       "      <td>DVS - DEM - § 2º DO ART. 23 DO SUBSTITUTIVO DO...</td>\n",
       "      <td>4976</td>\n",
       "      <td>PL 4529/2004</td>\n",
       "      <td>Minoria</td>\n",
       "      <td>Liberado</td>\n",
       "      <td>Pedro Guerra</td>\n",
       "      <td>174314</td>\n",
       "      <td>PSD</td>\n",
       "      <td>PR</td>\n",
       "      <td>Sim</td>\n",
       "    </tr>\n",
       "    <tr>\n",
       "      <th>2</th>\n",
       "      <td>Rejeitado o Requerimento. Sim: 2; não: 270; ab...</td>\n",
       "      <td>5/11/2013</td>\n",
       "      <td>20:53</td>\n",
       "      <td>REQUERIMENTO DE RETIRADA DE PAUTA</td>\n",
       "      <td>5097</td>\n",
       "      <td>PL 6025/2005</td>\n",
       "      <td>Repr.PMN</td>\n",
       "      <td>Não</td>\n",
       "      <td>Amir Lando</td>\n",
       "      <td>174861</td>\n",
       "      <td>PMDB</td>\n",
       "      <td>RO</td>\n",
       "      <td>Não</td>\n",
       "    </tr>\n",
       "    <tr>\n",
       "      <th>3</th>\n",
       "      <td>Mantido o parágrafo. Sim: 206; não: 159; abste...</td>\n",
       "      <td>4/2/2014</td>\n",
       "      <td>21:30</td>\n",
       "      <td>DVS - PP - § 19 DO ART. 85 DA EMENDA AGLUTINATIVA</td>\n",
       "      <td>5151</td>\n",
       "      <td>PL 6025/2005</td>\n",
       "      <td>GOV.</td>\n",
       "      <td>Não</td>\n",
       "      <td>Helcio Silva</td>\n",
       "      <td>175737</td>\n",
       "      <td>PT</td>\n",
       "      <td>SP</td>\n",
       "      <td>Não</td>\n",
       "    </tr>\n",
       "    <tr>\n",
       "      <th>4</th>\n",
       "      <td>Aprovada a Emenda Aglutinativa nº 7. Sim: 279;...</td>\n",
       "      <td>11/2/2014</td>\n",
       "      <td>20:57</td>\n",
       "      <td>DVS - PTB - EMENDA AGLUTINATIVA Nº 7</td>\n",
       "      <td>5160</td>\n",
       "      <td>PL 6025/2005</td>\n",
       "      <td>GOV.</td>\n",
       "      <td>Não</td>\n",
       "      <td>Helcio Silva</td>\n",
       "      <td>175737</td>\n",
       "      <td>PT</td>\n",
       "      <td>SP</td>\n",
       "      <td>Não</td>\n",
       "    </tr>\n",
       "    <tr>\n",
       "      <th>...</th>\n",
       "      <td>...</td>\n",
       "      <td>...</td>\n",
       "      <td>...</td>\n",
       "      <td>...</td>\n",
       "      <td>...</td>\n",
       "      <td>...</td>\n",
       "      <td>...</td>\n",
       "      <td>...</td>\n",
       "      <td>...</td>\n",
       "      <td>...</td>\n",
       "      <td>...</td>\n",
       "      <td>...</td>\n",
       "      <td>...</td>\n",
       "    </tr>\n",
       "    <tr>\n",
       "      <th>104181</th>\n",
       "      <td>Mantido o texto. Sim: 206; Não: 70; Total: 276.</td>\n",
       "      <td>11/9/2024</td>\n",
       "      <td>00:26</td>\n",
       "      <td>DTQ. 4 - PL - ARTIGO 43.</td>\n",
       "      <td>17505</td>\n",
       "      <td>PL 1847/2024</td>\n",
       "      <td>Governo</td>\n",
       "      <td>Sim</td>\n",
       "      <td>Newton Bonin</td>\n",
       "      <td>229939</td>\n",
       "      <td>União</td>\n",
       "      <td>PR</td>\n",
       "      <td>Sim</td>\n",
       "    </tr>\n",
       "    <tr>\n",
       "      <th>104182</th>\n",
       "      <td>Mantido o texto. Sim: 200; Não: 80; Abstenção:...</td>\n",
       "      <td>11/9/2024</td>\n",
       "      <td>00:36</td>\n",
       "      <td>DTQ. 2 - PL - ARTIGO 44.</td>\n",
       "      <td>17505</td>\n",
       "      <td>PL 1847/2024</td>\n",
       "      <td>Governo</td>\n",
       "      <td>Sim</td>\n",
       "      <td>Newton Bonin</td>\n",
       "      <td>229939</td>\n",
       "      <td>União</td>\n",
       "      <td>PR</td>\n",
       "      <td>Sim</td>\n",
       "    </tr>\n",
       "    <tr>\n",
       "      <th>104183</th>\n",
       "      <td>Mantido o texto. Sim: 189; Não: 140; Total: 329.</td>\n",
       "      <td>11/9/2024</td>\n",
       "      <td>00:55</td>\n",
       "      <td>DTQ. 3 - PL - CAPÍTULO VIII</td>\n",
       "      <td>17505</td>\n",
       "      <td>PL 1847/2024</td>\n",
       "      <td>Governo</td>\n",
       "      <td>Sim</td>\n",
       "      <td>Newton Bonin</td>\n",
       "      <td>229939</td>\n",
       "      <td>União</td>\n",
       "      <td>PR</td>\n",
       "      <td>Sim</td>\n",
       "    </tr>\n",
       "    <tr>\n",
       "      <th>104184</th>\n",
       "      <td>Rejeitada a Emenda de Plenário nº 18. Sim: 133...</td>\n",
       "      <td>11/9/2024</td>\n",
       "      <td>00:13</td>\n",
       "      <td>DTQ. 5 - PL - EMENDA DE PLENÁRIO Nº 18</td>\n",
       "      <td>17505</td>\n",
       "      <td>PL 1847/2024</td>\n",
       "      <td>Governo</td>\n",
       "      <td>Não</td>\n",
       "      <td>Newton Bonin</td>\n",
       "      <td>229939</td>\n",
       "      <td>União</td>\n",
       "      <td>PR</td>\n",
       "      <td>Não</td>\n",
       "    </tr>\n",
       "    <tr>\n",
       "      <th>104185</th>\n",
       "      <td>Aprovada a Emenda de Redação n° 1 Sim: 231; Nã...</td>\n",
       "      <td>12/9/2024</td>\n",
       "      <td>10:39</td>\n",
       "      <td>EMENDA DE REDAÇÃO Nº 1</td>\n",
       "      <td>17506</td>\n",
       "      <td>PL 1847/2024</td>\n",
       "      <td>Governo</td>\n",
       "      <td>Sim</td>\n",
       "      <td>Newton Bonin</td>\n",
       "      <td>229939</td>\n",
       "      <td>União</td>\n",
       "      <td>PR</td>\n",
       "      <td>Sim</td>\n",
       "    </tr>\n",
       "  </tbody>\n",
       "</table>\n",
       "<p>104186 rows × 13 columns</p>\n",
       "</div>"
      ],
      "text/plain": [
       "                                                   resumo       data   hora  \\\n",
       "0       Mantido o texto. Sim: 268; não: 62; abstenção:...   9/7/2013  23:02   \n",
       "1       Mantido o texto. Sim: 268; não: 62; abstenção:...   9/7/2013  23:02   \n",
       "2       Rejeitado o Requerimento. Sim: 2; não: 270; ab...  5/11/2013  20:53   \n",
       "3       Mantido o parágrafo. Sim: 206; não: 159; abste...   4/2/2014  21:30   \n",
       "4       Aprovada a Emenda Aglutinativa nº 7. Sim: 279;...  11/2/2014  20:57   \n",
       "...                                                   ...        ...    ...   \n",
       "104181    Mantido o texto. Sim: 206; Não: 70; Total: 276.  11/9/2024  00:26   \n",
       "104182  Mantido o texto. Sim: 200; Não: 80; Abstenção:...  11/9/2024  00:36   \n",
       "104183   Mantido o texto. Sim: 189; Não: 140; Total: 329.  11/9/2024  00:55   \n",
       "104184  Rejeitada a Emenda de Plenário nº 18. Sim: 133...  11/9/2024  00:13   \n",
       "104185  Aprovada a Emenda de Redação n° 1 Sim: 231; Nã...  12/9/2024  10:39   \n",
       "\n",
       "                                               objvotacao  codsessao  \\\n",
       "0       DVS - DEM - § 2º DO ART. 23 DO SUBSTITUTIVO DO...       4976   \n",
       "1       DVS - DEM - § 2º DO ART. 23 DO SUBSTITUTIVO DO...       4976   \n",
       "2                       REQUERIMENTO DE RETIRADA DE PAUTA       5097   \n",
       "3       DVS - PP - § 19 DO ART. 85 DA EMENDA AGLUTINATIVA       5151   \n",
       "4                    DVS - PTB - EMENDA AGLUTINATIVA Nº 7       5160   \n",
       "...                                                   ...        ...   \n",
       "104181                           DTQ. 4 - PL - ARTIGO 43.      17505   \n",
       "104182                           DTQ. 2 - PL - ARTIGO 44.      17505   \n",
       "104183                        DTQ. 3 - PL - CAPÍTULO VIII      17505   \n",
       "104184             DTQ. 5 - PL - EMENDA DE PLENÁRIO Nº 18      17505   \n",
       "104185                             EMENDA DE REDAÇÃO Nº 1      17506   \n",
       "\n",
       "       nomeproposicao bancada_sigla bancada_orientacao deputado_nome  \\\n",
       "0        PL 4529/2004       Minoria    Liberado         Pedro Guerra   \n",
       "1        PL 4529/2004       Minoria    Liberado         Pedro Guerra   \n",
       "2        PL 6025/2005      Repr.PMN    Não                Amir Lando   \n",
       "3        PL 6025/2005          GOV.    Não              Helcio Silva   \n",
       "4        PL 6025/2005          GOV.    Não              Helcio Silva   \n",
       "...               ...           ...                ...           ...   \n",
       "104181   PL 1847/2024       Governo    Sim              Newton Bonin   \n",
       "104182   PL 1847/2024       Governo    Sim              Newton Bonin   \n",
       "104183   PL 1847/2024       Governo    Sim              Newton Bonin   \n",
       "104184   PL 1847/2024       Governo    Não              Newton Bonin   \n",
       "104185   PL 1847/2024       Governo    Sim              Newton Bonin   \n",
       "\n",
       "        deputado_idecadastro deputado_partido deputado_uf    deputado_voto  \n",
       "0                     174314       PSD                 PR  Sim              \n",
       "1                     174314       PSD                 PR  Sim              \n",
       "2                     174861       PMDB                RO  Não              \n",
       "3                     175737       PT                  SP  Não              \n",
       "4                     175737       PT                  SP  Não              \n",
       "...                      ...              ...         ...              ...  \n",
       "104181                229939       União               PR  Sim              \n",
       "104182                229939       União               PR  Sim              \n",
       "104183                229939       União               PR  Sim              \n",
       "104184                229939       União               PR  Não              \n",
       "104185                229939       União               PR  Sim              \n",
       "\n",
       "[104186 rows x 13 columns]"
      ]
     },
     "execution_count": 54,
     "metadata": {},
     "output_type": "execute_result"
    }
   ],
   "source": [
    "df_vp"
   ]
  },
  {
   "cell_type": "markdown",
   "metadata": {},
   "source": [
    "Colunas selecionadas para ficar:"
   ]
  },
  {
   "cell_type": "code",
   "execution_count": 37,
   "metadata": {},
   "outputs": [],
   "source": [
    "df = df[[\"nomeProposicao\", \"idProposicao\", \"tema\", \"partidoAutor\", \"DataApresentacao\", \"RegimeTramitacao\",\"Situacao\"]]"
   ]
  }
 ],
 "metadata": {
  "kernelspec": {
   "display_name": "base",
   "language": "python",
   "name": "python3"
  },
  "language_info": {
   "codemirror_mode": {
    "name": "ipython",
    "version": 3
   },
   "file_extension": ".py",
   "mimetype": "text/x-python",
   "name": "python",
   "nbconvert_exporter": "python",
   "pygments_lexer": "ipython3",
   "version": "3.11.5"
  }
 },
 "nbformat": 4,
 "nbformat_minor": 2
}
