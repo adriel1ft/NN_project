{
 "cells": [
  {
   "cell_type": "markdown",
   "metadata": {},
   "source": [
    "### Aliado ou Oposição"
   ]
  },
  {
   "cell_type": "code",
   "execution_count": 88,
   "metadata": {},
   "outputs": [],
   "source": [
    "from bs4 import BeautifulSoup\n",
    "import requests\n",
    "import pandas as pd\n",
    "from io import StringIO\n",
    "import os\n"
   ]
  },
  {
   "cell_type": "code",
   "execution_count": 34,
   "metadata": {},
   "outputs": [],
   "source": [
    "url_11_14 = \"https://pt.wikipedia.org/wiki/Lista_de_deputados_federais_do_Brasil_da_54.%C2%AA_legislatura\"\n",
    "url_15_18 = \"https://pt.wikipedia.org/wiki/Lista_de_deputados_federais_do_Brasil_da_55.%C2%AA_legislatura\"\n",
    "url_19_22 = \"https://pt.wikipedia.org/wiki/Lista_de_deputados_federais_do_Brasil_da_56.%C2%AA_legislatura\"\n",
    "url_23_24 = \"https://pt.wikipedia.org/wiki/Lista_de_deputados_federais_do_Brasil_da_57.%C2%AA_legislatura\"\n"
   ]
  },
  {
   "cell_type": "code",
   "execution_count": 85,
   "metadata": {},
   "outputs": [],
   "source": [
    "def get_table(url, periodo=None):\n",
    "    response = requests.get(url)\n",
    "    html_content = response.text\n",
    "    soup = BeautifulSoup(html_content, 'html.parser')\n",
    "    tables = soup.find_all('table', {'class': 'wikitable'})\n",
    "\n",
    "    if periodo == \"23_24\":\n",
    "        table = tables[1]\n",
    "    elif periodo == \"19_22\":\n",
    "        table = tables[3]\n",
    "    else:\n",
    "        table = tables[0]\n",
    "    dfs = pd.read_html(StringIO(str(table)))\n",
    "    df = dfs[0]  \n",
    "\n",
    "\n",
    "    colunas_para_remover = [\"Bancada\", \"Número de deputados\", \"Número de deputados[6]\",\"Líder\", \"Líder[3]\", \"Nível\", \"Ref\"]\n",
    "    colunas_existentes = [col for col in colunas_para_remover if col in df.columns]\n",
    "    df.drop(columns=colunas_existentes, inplace=True)\n",
    "\n",
    "    df['Aliado'] = df[\"Posição\"].apply(lambda x: 1 if x == \"Governo\" else 0)\n",
    "    df['Oposição'] = df[\"Posição\"].apply(lambda x: 1 if x == \"Oposição\" else 0)\n",
    "    df.drop(columns=[\"Posição\"], inplace=True)\n",
    "    \n",
    "    return df\n"
   ]
  },
  {
   "cell_type": "code",
   "execution_count": 86,
   "metadata": {},
   "outputs": [],
   "source": [
    "df_11_14 = get_table(url_11_14)\n",
    "df_15_18 = get_table(url_11_14)\n",
    "df_19_22 = get_table(url_19_22, periodo=\"19_22\")\n",
    "df_23_24 = get_table(url_23_24, periodo=\"23_24\")"
   ]
  },
  {
   "cell_type": "code",
   "execution_count": 89,
   "metadata": {},
   "outputs": [
    {
     "name": "stdout",
     "output_type": "stream",
     "text": [
      "Criando pasta data/posicoes\n"
     ]
    }
   ],
   "source": [
    "if not os.path.exists(\"data/posicoes\"):\n",
    "    os.makedirs(\"data/posicoes\")\n",
    "    print(\"Criando pasta data/posicoes\")"
   ]
  },
  {
   "cell_type": "code",
   "execution_count": 90,
   "metadata": {},
   "outputs": [
    {
     "name": "stdout",
     "output_type": "stream",
     "text": [
      "Arquivos salvos com sucesso!\n"
     ]
    }
   ],
   "source": [
    "df_11_14.to_csv(\"data/posicoes/posicoes_11_14.csv\", index=False)\n",
    "df_15_18.to_csv(\"data/posicoes/posicoes_15_18.csv\", index=False)\n",
    "df_19_22.to_csv(\"data/posicoes/posicoes_19_22.csv\", index=False)\n",
    "df_23_24.to_csv(\"data/posicoes/posicoes_23_24.csv\", index=False)\n",
    "print(\"Arquivos salvos com sucesso!\")"
   ]
  },
  {
   "cell_type": "markdown",
   "metadata": {},
   "source": [
    "### Influência dos Partidos na Bancada (ao longo dos anos)"
   ]
  },
  {
   "cell_type": "markdown",
   "metadata": {},
   "source": [
    "Site de referência:\n",
    "- (Camara Leg | Bancada)[https://www.camara.leg.br/internet/deputado/bancada.asp]\n",
    "\n",
    "Ferramenta para recuperação de Versões Anteriores:\n",
    "- (Web Archive)[https://web.archive.org/]"
   ]
  },
  {
   "cell_type": "markdown",
   "metadata": {},
   "source": [
    "2013 - 2015:\n",
    "- Onde era PRB se tornou REPUBLICANOS;\n",
    "\n",
    "2013 - 2020:\n",
    "- PL e PR foram unificados\n",
    "\n",
    "2018 - 2019:\n",
    "- PPS entrou como CIDADANIA\n",
    "\n",
    "2019:\n",
    "- PR se tornou PL"
   ]
  },
  {
   "cell_type": "code",
   "execution_count": null,
   "metadata": {},
   "outputs": [],
   "source": [
    "partidos_cadeiras_2013 = [\n",
    "    {'partido': 'PT', 'cadeiras': 88},\n",
    "    {'partido': 'PMDB', 'cadeiras': 76},\n",
    "    {'partido': 'PSDB', 'cadeiras': 46},\n",
    "    {'partido': 'PP', 'cadeiras': 41},\n",
    "    {'partido': 'PSD', 'cadeiras': 40},\n",
    "    {'partido': 'Bloco PR, PTdoB, PRP', 'cadeiras': 38},\n",
    "    {'partido': 'DEM', 'cadeiras': 25},\n",
    "    {'partido': 'PSB', 'cadeiras': 25},\n",
    "    {'partido': 'SDD', 'cadeiras': 23},\n",
    "    {'partido': 'PROS', 'cadeiras': 17},\n",
    "    {'partido': 'PDT', 'cadeiras': 17},\n",
    "    {'partido': 'PTB', 'cadeiras': 17},\n",
    "    {'partido': 'PCdoB', 'cadeiras': 14},\n",
    "    {'partido': 'PSC', 'cadeiras': 13},\n",
    "    {'partido': 'REPUBLICANOS', 'cadeiras': 10},\n",
    "    {'partido': 'PV', 'cadeiras': 9},\n",
    "    {'partido': 'PPS', 'cadeiras': 8},\n",
    "    {'partido': 'PSOL', 'cadeiras': 3},\n",
    "    {'partido': 'PMN', 'cadeiras': 3}\n",
    "]\n",
    "\n",
    "partidos_cadeiras_2014 = [\n",
    "    {'partido': 'PT', 'cadeiras': 87},\n",
    "    {'partido': 'PMDB', 'cadeiras': 75},\n",
    "    {'partido': 'Bloco PP, PROS', 'cadeiras': 59},\n",
    "    {'partido': 'PSDB', 'cadeiras': 45},\n",
    "    {'partido': 'PSD', 'cadeiras': 42},\n",
    "    {'partido': 'Bloco PR, PTdoB, PRP', 'cadeiras': 36},\n",
    "    {'partido': 'DEM', 'cadeiras': 26},\n",
    "    {'partido': 'PSB', 'cadeiras': 23},\n",
    "    {'partido': 'SD', 'cadeiras': 22},\n",
    "    {'partido': 'PDT', 'cadeiras': 18},\n",
    "    {'partido': 'PTB', 'cadeiras': 18},\n",
    "    {'partido': 'PCdoB', 'cadeiras': 14},\n",
    "    {'partido': 'PSC', 'cadeiras': 13},\n",
    "    {'partido': 'REPUBLICANOS', 'cadeiras': 10},\n",
    "    {'partido': 'PV', 'cadeiras': 9},\n",
    "    {'partido': 'PPS', 'cadeiras': 8},\n",
    "    {'partido': 'PSOL', 'cadeiras': 3},\n",
    "    {'partido': 'PMN', 'cadeiras': 3}\n",
    "]\n",
    "\n",
    "partidos_cadeiras_2015 = [\n",
    "    {'partido': 'Bloco PMDB, PP, PTB, PSC, PHS, PEN', 'cadeiras': 151},\n",
    "    {'partido': 'PT', 'cadeiras': 64},\n",
    "    {'partido': 'PSDB', 'cadeiras': 53},\n",
    "    {'partido': 'Bloco REPUBLICANOS, PTN, PMN, PRP, PSDC, PRTB, PTC, PSL, PTdoB', 'cadeiras': 38},\n",
    "    {'partido': 'PSD', 'cadeiras': 34},\n",
    "    {'partido': 'PR', 'cadeiras': 34},\n",
    "    {'partido': 'PSB', 'cadeiras': 32},\n",
    "    {'partido': 'DEM', 'cadeiras': 22},\n",
    "    {'partido': 'PDT', 'cadeiras': 20},\n",
    "    {'partido': 'SD', 'cadeiras': 16},\n",
    "    {'partido': 'PCdoB', 'cadeiras': 13},\n",
    "    {'partido': 'PROS', 'cadeiras': 12},\n",
    "    {'partido': 'PPS', 'cadeiras': 11},\n",
    "    {'partido': 'PV', 'cadeiras': 8},\n",
    "    {'partido': 'PSOL', 'cadeiras': 5}\n",
    "]\n",
    "\n",
    "partidos_cadeiras_2016 = [\n",
    "    {'partido': 'Bloco PP, PTB, PSC', 'cadeiras': 74},\n",
    "    {'partido': 'Bloco PMDB, PEN', 'cadeiras': 69},\n",
    "    {'partido': 'PT', 'cadeiras': 58},\n",
    "    {'partido': 'PSDB', 'cadeiras': 48},\n",
    "    {'partido': 'PR', 'cadeiras': 41},\n",
    "    {'partido': 'PSD', 'cadeiras': 37},\n",
    "    {'partido': 'PSB', 'cadeiras': 33},\n",
    "    {'partido': 'DEM', 'cadeiras': 28},\n",
    "    {'partido': 'REPUBLICANOS', 'cadeiras': 22},\n",
    "    {'partido': 'PDT', 'cadeiras': 20},\n",
    "    {'partido': 'Bloco PTN, PTdoB, PSL', 'cadeiras': 19},\n",
    "    {'partido': 'SD', 'cadeiras': 14},\n",
    "    {'partido': 'PCdoB', 'cadeiras': 11},\n",
    "    {'partido': 'PPS', 'cadeiras': 8},\n",
    "    {'partido': 'PHS', 'cadeiras': 7},\n",
    "    {'partido': 'PROS', 'cadeiras': 6},\n",
    "    {'partido': 'PSOL', 'cadeiras': 6},\n",
    "    {'partido': 'PV', 'cadeiras': 6},\n",
    "    {'partido': 'REDE', 'cadeiras': 4},\n",
    "    {'partido': 'PMB', 'cadeiras': 1},\n",
    "    {'partido': 'PRP', 'cadeiras': 1}\n",
    "]\n",
    "\n",
    "partidos_cadeiras_2017 = [\n",
    "    {'partido': 'S.PART.', 'cadeiras': 3},\n",
    "    {'partido': 'PMDB', 'cadeiras': 60},\n",
    "    {'partido': 'PT', 'cadeiras': 57},\n",
    "    {'partido': 'Bloco PP, AVANTE', 'cadeiras': 52},\n",
    "    {'partido': 'PSDB', 'cadeiras': 47},\n",
    "    {'partido': 'PSD', 'cadeiras': 38},\n",
    "    {'partido': 'PR', 'cadeiras': 37},\n",
    "    {'partido': 'PSB', 'cadeiras': 32},\n",
    "    {'partido': 'DEM', 'cadeiras': 30},\n",
    "    {'partido': 'Bloco PTB, PROS, PSL, PRP', 'cadeiras': 25},\n",
    "    {'partido': 'REPUBLICANOS', 'cadeiras': 22},\n",
    "    {'partido': 'PDT', 'cadeiras': 21},\n",
    "    {'partido': 'PODE', 'cadeiras': 16},\n",
    "    {'partido': 'SD', 'cadeiras': 14},\n",
    "    {'partido': 'PCdoB', 'cadeiras': 12},\n",
    "    {'partido': 'PSC', 'cadeiras': 11},\n",
    "    {'partido': 'PPS', 'cadeiras': 9},\n",
    "    {'partido': 'PHS', 'cadeiras': 7},\n",
    "    {'partido': 'PV', 'cadeiras': 6},\n",
    "    {'partido': 'PSOL', 'cadeiras': 6},\n",
    "    {'partido': 'REDE', 'cadeiras': 4},\n",
    "    {'partido': 'PEN', 'cadeiras': 3}\n",
    "]\n",
    "\n",
    "partidos_cadeiras_2018 = [\n",
    "    {'partido': 'PT', 'cadeiras': 60},\n",
    "    {'partido': 'PP', 'cadeiras': 49},\n",
    "    {'partido': 'AVANTE', 'cadeiras': 5},\n",
    "    {'partido': 'PMDB', 'cadeiras': 52},\n",
    "    {'partido': 'PSDB', 'cadeiras': 48},\n",
    "    {'partido': 'DEM', 'cadeiras': 42},\n",
    "    {'partido': 'PR', 'cadeiras': 41},\n",
    "    {'partido': 'PSD', 'cadeiras': 37},\n",
    "    {'partido': 'PSB', 'cadeiras': 26},\n",
    "    {'partido': 'PTB', 'cadeiras': 15},\n",
    "    {'partido': 'PROS', 'cadeiras': 11},\n",
    "    {'partido': 'REPUBLICANOS', 'cadeiras': 21},\n",
    "    {'partido': 'PDT', 'cadeiras': 21},\n",
    "    {'partido': 'PODE', 'cadeiras': 17},\n",
    "    {'partido': 'PCdoB', 'cadeiras': 11},\n",
    "    {'partido': 'SD', 'cadeiras': 10},\n",
    "    {'partido': 'PSC', 'cadeiras': 9},\n",
    "    {'partido': 'PSL', 'cadeiras': 8},\n",
    "    {'partido': 'PPS', 'cadeiras': 8},\n",
    "    {'partido': 'PSOL', 'cadeiras': 6},\n",
    "    {'partido': 'PATRIOTA', 'cadeiras': 5},\n",
    "    {'partido': 'PV', 'cadeiras': 4},\n",
    "    {'partido': 'PHS', 'cadeiras': 4},\n",
    "    {'partido': 'PPL', 'cadeiras': 1}\n",
    "]\n",
    "\n",
    "partidos_cadeiras_2019 = [\n",
    "    {'partido': 'Sem Partido', 'cadeiras': 1},\n",
    "    {'partido': 'PP', 'cadeiras': 39},\n",
    "    {'partido': 'PMDB', 'cadeiras': 34},\n",
    "    {'partido': 'PTB', 'cadeiras': 11},\n",
    "    {'partido': 'PT', 'cadeiras': 55},\n",
    "    {'partido': 'PSL', 'cadeiras': 54},\n",
    "    {'partido': 'PR', 'cadeiras': 38},\n",
    "    {'partido': 'PSD', 'cadeiras': 36},\n",
    "    {'partido': 'PDT', 'cadeiras': 28},\n",
    "    {'partido': 'AVANTE', 'cadeiras': 7},\n",
    "    {'partido': 'PSB', 'cadeiras': 32},\n",
    "    {'partido': 'REPUBLICANOS', 'cadeiras': 31},\n",
    "    {'partido': 'PSDB', 'cadeiras': 30},\n",
    "    {'partido': 'DEM', 'cadeiras': 27},\n",
    "    {'partido': 'SOLIDARIEDADE', 'cadeiras': 14},\n",
    "    {'partido': 'PODE', 'cadeiras': 11},\n",
    "    {'partido': 'PSOL', 'cadeiras': 10},\n",
    "    {'partido': 'PROS', 'cadeiras': 10},\n",
    "    {'partido': 'PCdoB', 'cadeiras': 8},\n",
    "    {'partido': 'PSC', 'cadeiras': 8},\n",
    "    {'partido': 'CIDADANIA', 'cadeiras': 8},\n",
    "    {'partido': 'NOVO', 'cadeiras': 8},\n",
    "    {'partido': 'PATRIOTA', 'cadeiras': 4},\n",
    "    {'partido': 'PV', 'cadeiras': 4},\n",
    "    {'partido': 'PMN', 'cadeiras': 2},\n",
    "    {'partido': 'PHS', 'cadeiras': 1},\n",
    "    {'partido': 'PRP', 'cadeiras': 1},\n",
    "    {'partido': 'REDE', 'cadeiras': 1}\n",
    "]\n",
    "\n",
    "partidos_cadeiras_2020 = [\n",
    "    {'partido': 'PL', 'cadeiras': 41},\n",
    "    {'partido': 'PP', 'cadeiras': 41},\n",
    "    {'partido': 'PSD', 'cadeiras': 34},\n",
    "    {'partido': 'SOLIDARIEDADE', 'cadeiras': 13},\n",
    "    {'partido': 'AVANTE', 'cadeiras': 8},\n",
    "    {'partido': 'PSL', 'cadeiras': 53},\n",
    "    {'partido': 'PROS', 'cadeiras': 10},\n",
    "    {'partido': 'PTB', 'cadeiras': 11},\n",
    "    {'partido': 'PT', 'cadeiras': 54},\n",
    "    {'partido': 'PMDB', 'cadeiras': 34},\n",
    "    {'partido': 'REPUBLICANOS', 'cadeiras': 31},\n",
    "    {'partido': 'PSDB', 'cadeiras': 31},\n",
    "    {'partido': 'PSB', 'cadeiras': 31},\n",
    "    {'partido': 'PDT', 'cadeiras': 28},\n",
    "    {'partido': 'DEM', 'cadeiras': 28},\n",
    "    {'partido': 'PODE', 'cadeiras': 10},\n",
    "    {'partido': 'PSOL', 'cadeiras': 10},\n",
    "    {'partido': 'PSC', 'cadeiras': 9},\n",
    "    {'partido': 'PCdoB', 'cadeiras': 9},\n",
    "    {'partido': 'CIDADANIA', 'cadeiras': 8},\n",
    "    {'partido': 'NOVO', 'cadeiras': 8},\n",
    "    {'partido': 'PATRIOTA', 'cadeiras': 6},\n",
    "    {'partido': 'PV', 'cadeiras': 4},\n",
    "    {'partido': 'REDE', 'cadeiras': 1}\n",
    "]\n",
    "\n",
    "partidos_cadeiras_2021 = [\n",
    "    {'partido': 'PSL', 'cadeiras': 55},\n",
    "    {'partido': 'PT', 'cadeiras': 53},\n",
    "    {'partido': 'PL', 'cadeiras': 43},\n",
    "    {'partido': 'PP', 'cadeiras': 42},\n",
    "    {'partido': 'PSD', 'cadeiras': 35},\n",
    "    {'partido': 'PMDB', 'cadeiras': 34},\n",
    "    {'partido': 'PSDB', 'cadeiras': 32},\n",
    "    {'partido': 'REPUBLICANOS', 'cadeiras': 31},\n",
    "    {'partido': 'PSB', 'cadeiras': 30},\n",
    "    {'partido': 'DEM', 'cadeiras': 27},\n",
    "    {'partido': 'PDT', 'cadeiras': 24},\n",
    "    {'partido': 'PSC', 'cadeiras': 12},\n",
    "    {'partido': 'PTB', 'cadeiras': 10},\n",
    "    {'partido': 'SOLIDARIEDADE', 'cadeiras': 13},\n",
    "    {'partido': 'PODE', 'cadeiras': 11},\n",
    "    {'partido': 'PROS', 'cadeiras': 10},\n",
    "    {'partido': 'PSOL', 'cadeiras': 9},\n",
    "    {'partido': 'NOVO', 'cadeiras': 8},\n",
    "    {'partido': 'AVANTE', 'cadeiras': 8},\n",
    "    {'partido': 'PCdoB', 'cadeiras': 8},\n",
    "    {'partido': 'CIDADANIA', 'cadeiras': 7},\n",
    "    {'partido': 'PATRIOTA', 'cadeiras': 6},\n",
    "    {'partido': 'PV', 'cadeiras': 4},\n",
    "    {'partido': 'REDE', 'cadeiras': 1}\n",
    "]\n",
    "\n",
    "partidos_cadeiras_2022 = [\n",
    "    {'partido': 'S.PART.', 'cadeiras': 1},\n",
    "    {'partido': 'PL', 'cadeiras': 76},\n",
    "    {'partido': 'PP', 'cadeiras': 58},\n",
    "    {'partido': 'PT', 'cadeiras': 56},\n",
    "    {'partido': 'UNIÃO', 'cadeiras': 50},\n",
    "    {'partido': 'PSD', 'cadeiras': 46},\n",
    "    {'partido': 'REPUBLICANOS', 'cadeiras': 45},\n",
    "    {'partido': 'PMDB', 'cadeiras': 37},\n",
    "    {'partido': 'PSB', 'cadeiras': 23},\n",
    "    {'partido': 'PSDB', 'cadeiras': 22},\n",
    "    {'partido': 'PDT', 'cadeiras': 19},\n",
    "    {'partido': 'PODE', 'cadeiras': 9},\n",
    "    {'partido': 'PSC', 'cadeiras': 8},\n",
    "    {'partido': 'PSOL', 'cadeiras': 8},\n",
    "    {'partido': 'NOVO', 'cadeiras': 8},\n",
    "    {'partido': 'PCdoB', 'cadeiras': 8},\n",
    "    {'partido': 'SOLIDARIEDADE', 'cadeiras': 8},\n",
    "    {'partido': 'CIDADANIA', 'cadeiras': 7},\n",
    "    {'partido': 'AVANTE', 'cadeiras': 6},\n",
    "    {'partido': 'PATRIOTA', 'cadeiras': 5},\n",
    "    {'partido': 'PROS', 'cadeiras': 4},\n",
    "    {'partido': 'PV', 'cadeiras': 4},\n",
    "    {'partido': 'PTB', 'cadeiras': 3},\n",
    "    {'partido': 'REDE', 'cadeiras': 2}\n",
    "]\n",
    "\n",
    "partidos_cadeiras_2023 = [\n",
    "    {'partido': 'UNIÃO', 'cadeiras': 59},\n",
    "    {'partido': 'PP', 'cadeiras': 49},\n",
    "    {'partido': 'PDT', 'cadeiras': 18},\n",
    "    {'partido': 'Federação PSDB CIDADANIA', 'cadeiras': 18},    \n",
    "    {'partido': 'PSB', 'cadeiras': 15},\n",
    "    {'partido': 'AVANTE', 'cadeiras': 7},\n",
    "    {'partido': 'SOLIDARIEDADE', 'cadeiras': 4},\n",
    "    {'partido': 'PATRIOTA', 'cadeiras': 4},    \n",
    "    {'partido': 'PMDB', 'cadeiras': 43},\n",
    "    {'partido': 'PSD', 'cadeiras': 43},\n",
    "    {'partido': 'REPUBLICANOS', 'cadeiras': 41},\n",
    "    {'partido': 'PODE', 'cadeiras': 11},\n",
    "    {'partido': 'PSC', 'cadeiras': 3},\n",
    "    {'partido': 'PL', 'cadeiras': 99},\n",
    "    {'partido': 'PT', 'cadeiras': 68},\n",
    "    {'partido': 'PCdoB', 'cadeiras': 7},\n",
    "    {'partido': 'PV', 'cadeiras': 6},\n",
    "    {'partido': 'PSOL', 'cadeiras': 13},\n",
    "    {'partido': 'REDE', 'cadeiras': 1},\n",
    "    {'partido': 'NOVO', 'cadeiras': 3}\n",
    "]\n",
    "\n",
    "partidos_cadeiras_2024 = [\n",
    "\n",
    "    {'partido': 'S.PART.', 'cadeiras': 1},\n",
    "    {'partido': 'UNIÃO', 'cadeiras': 58},\n",
    "    {'partido': 'PP', 'cadeiras': 50},\n",
    "    {'partido': 'PDT', 'cadeiras': 18},\n",
    "    {'partido': 'Federação PSDB CIDADANIA', 'cadeiras': 17},\n",
    "    {'partido': 'AVANTE', 'cadeiras': 7},\n",
    "    {'partido': 'PRD', 'cadeiras': 4},\n",
    "    {'partido': 'SOLIDARIEDADE', 'cadeiras': 6},\n",
    "    {'partido': 'PMDB', 'cadeiras': 44},\n",
    "    {'partido': 'PSD', 'cadeiras': 44},\n",
    "    {'partido': 'REPUBLICANOS', 'cadeiras': 43},\n",
    "    {'partido': 'PODE', 'cadeiras': 15},\n",
    "    {'partido': 'PL', 'cadeiras': 95},\n",
    "    {'partido': 'PT', 'cadeiras': 68},\n",
    "    {'partido': 'PCdoB', 'cadeiras': 7},\n",
    "    {'partido': 'PV', 'cadeiras': 5},\n",
    "    {'partido': 'PSB', 'cadeiras': 14},\n",
    "    {'partido': 'NOVO', 'cadeiras': 3},\n",
    "    {'partido': 'PSOL', 'cadeiras': 13},\n",
    "    {'partido': 'REDE', 'cadeiras': 1}\n",
    "\n",
    "]\n"
   ]
  },
  {
   "cell_type": "markdown",
   "metadata": {},
   "source": [
    "- Verificando Contagem"
   ]
  },
  {
   "cell_type": "code",
   "execution_count": null,
   "metadata": {},
   "outputs": [],
   "source": [
    "def soma_cadeiras(partidos_cadeiras):\n",
    "    return sum(partido['cadeiras'] for partido in partidos_cadeiras)\n",
    "\n",
    "total_cadeiras_2013 = soma_cadeiras(partidos_cadeiras_2013)\n",
    "total_cadeiras_2014 = soma_cadeiras(partidos_cadeiras_2014)\n",
    "total_cadeiras_2015 = soma_cadeiras(partidos_cadeiras_2015)\n",
    "total_cadeiras_2016 = soma_cadeiras(partidos_cadeiras_2016)\n",
    "total_cadeiras_2017 = soma_cadeiras(partidos_cadeiras_2017)\n",
    "total_cadeiras_2018 = soma_cadeiras(partidos_cadeiras_2018)\n",
    "total_cadeiras_2019 = soma_cadeiras(partidos_cadeiras_2019)\n",
    "total_cadeiras_2020 = soma_cadeiras(partidos_cadeiras_2020)\n",
    "total_cadeiras_2021 = soma_cadeiras(partidos_cadeiras_2021)\n",
    "total_cadeiras_2022 = soma_cadeiras(partidos_cadeiras_2022)\n",
    "total_cadeiras_2023 = soma_cadeiras(partidos_cadeiras_2023)\n",
    "total_cadeiras_2024 = soma_cadeiras(partidos_cadeiras_2024)\n",
    "\n",
    "print(\"Total de cadeiras em 2013:\", total_cadeiras_2013)\n",
    "print(\"Total de cadeiras em 2014:\", total_cadeiras_2014)\n",
    "print(\"Total de cadeiras em 2015:\", total_cadeiras_2015)\n",
    "print(\"Total de cadeiras em 2016:\", total_cadeiras_2016)\n",
    "print(\"Total de cadeiras em 2017:\", total_cadeiras_2017)\n",
    "print(\"Total de cadeiras em 2018:\", total_cadeiras_2018)\n",
    "print(\"Total de cadeiras em 2019:\", total_cadeiras_2019)\n",
    "print(\"Total de cadeiras em 2020:\", total_cadeiras_2020)\n",
    "print(\"Total de cadeiras em 2021:\", total_cadeiras_2021)\n",
    "print(\"Total de cadeiras em 2022:\", total_cadeiras_2022)\n",
    "print(\"Total de cadeiras em 2023:\", total_cadeiras_2023)\n",
    "print(\"Total de cadeiras em 2024:\", total_cadeiras_2024)"
   ]
  },
  {
   "cell_type": "markdown",
   "metadata": {},
   "source": [
    "- Calculando Influência"
   ]
  },
  {
   "cell_type": "code",
   "execution_count": null,
   "metadata": {},
   "outputs": [],
   "source": [
    "def influencia_partido(partidos_cadeiras, total_cadeiras):\n",
    "    for partido in partidos_cadeiras:\n",
    "        partido['influencia'] = partido['cadeiras'] / total_cadeiras\n",
    "    return partidos_cadeiras\n",
    "\n",
    "partidos_cadeiras_2013 = influencia_partido(partidos_cadeiras_2013, total_cadeiras_2013)\n",
    "partidos_cadeiras_2014 = influencia_partido(partidos_cadeiras_2014, total_cadeiras_2014)\n",
    "partidos_cadeiras_2015 = influencia_partido(partidos_cadeiras_2015, total_cadeiras_2015)\n",
    "partidos_cadeiras_2016 = influencia_partido(partidos_cadeiras_2016, total_cadeiras_2016)\n",
    "partidos_cadeiras_2017 = influencia_partido(partidos_cadeiras_2017, total_cadeiras_2017)\n",
    "partidos_cadeiras_2018 = influencia_partido(partidos_cadeiras_2018, total_cadeiras_2018)\n",
    "partidos_cadeiras_2019 = influencia_partido(partidos_cadeiras_2019, total_cadeiras_2019)\n",
    "partidos_cadeiras_2020 = influencia_partido(partidos_cadeiras_2020, total_cadeiras_2020)\n",
    "partidos_cadeiras_2021 = influencia_partido(partidos_cadeiras_2021, total_cadeiras_2021)\n",
    "partidos_cadeiras_2022 = influencia_partido(partidos_cadeiras_2022, total_cadeiras_2022)\n",
    "partidos_cadeiras_2023 = influencia_partido(partidos_cadeiras_2023, total_cadeiras_2023)\n",
    "partidos_cadeiras_2024 = influencia_partido(partidos_cadeiras_2024, total_cadeiras_2024)\n",
    "\n",
    "partidos_cadeiras_2013"
   ]
  },
  {
   "cell_type": "markdown",
   "metadata": {},
   "source": [
    "- Dividindo os Partidos Blocados (apenas os que o gov não explicitou a quantidade de cadeiras individual)"
   ]
  },
  {
   "cell_type": "code",
   "execution_count": null,
   "metadata": {},
   "outputs": [],
   "source": [
    "def dividir_blocos(partidos_cadeiras):\n",
    "    partidos_divididos = []\n",
    "    for partido in partidos_cadeiras:\n",
    "        if 'Bloco' in partido['partido']:\n",
    "            blocos = partido['partido'].replace('Bloco ', '').split(', ')\n",
    "            num_blocos = len(blocos)\n",
    "            for bloco in blocos:\n",
    "                partidos_divididos.append({\n",
    "                    'partido': bloco,\n",
    "                    'cadeiras': partido['cadeiras'] / num_blocos,\n",
    "                    'influencia': partido['influencia'] / num_blocos\n",
    "                })\n",
    "        else:\n",
    "            partidos_divididos.append(partido)\n",
    "    return partidos_divididos\n",
    "\n",
    "partidos_cadeiras_2013 = dividir_blocos(partidos_cadeiras_2013)\n",
    "partidos_cadeiras_2014 = dividir_blocos(partidos_cadeiras_2014)\n",
    "partidos_cadeiras_2015 = dividir_blocos(partidos_cadeiras_2015)\n",
    "partidos_cadeiras_2016 = dividir_blocos(partidos_cadeiras_2016)\n",
    "partidos_cadeiras_2017 = dividir_blocos(partidos_cadeiras_2017)\n",
    "partidos_cadeiras_2018 = dividir_blocos(partidos_cadeiras_2018)\n",
    "partidos_cadeiras_2019 = dividir_blocos(partidos_cadeiras_2019)\n",
    "partidos_cadeiras_2020 = dividir_blocos(partidos_cadeiras_2020)\n",
    "partidos_cadeiras_2021 = dividir_blocos(partidos_cadeiras_2021)\n",
    "partidos_cadeiras_2022 = dividir_blocos(partidos_cadeiras_2022)\n",
    "partidos_cadeiras_2023 = dividir_blocos(partidos_cadeiras_2023)\n",
    "partidos_cadeiras_2024 = dividir_blocos(partidos_cadeiras_2024)\n",
    "\n",
    "partidos_cadeiras_2013"
   ]
  },
  {
   "cell_type": "markdown",
   "metadata": {},
   "source": [
    "- Fazendo o dataset Influência"
   ]
  },
  {
   "cell_type": "code",
   "execution_count": null,
   "metadata": {},
   "outputs": [],
   "source": [
    "anos = list(range(2013, 2025))\n",
    "dados_influencia = [\n",
    "    partidos_cadeiras_2013, partidos_cadeiras_2014, partidos_cadeiras_2015,\n",
    "    partidos_cadeiras_2016, partidos_cadeiras_2017, partidos_cadeiras_2018,\n",
    "    partidos_cadeiras_2019, partidos_cadeiras_2020, partidos_cadeiras_2021, \n",
    "    partidos_cadeiras_2022, partidos_cadeiras_2023, partidos_cadeiras_2024\n",
    "]\n",
    "\n",
    "dados_influencia_flat = []\n",
    "for ano, partidos in zip(anos, dados_influencia):\n",
    "    for partido in partidos:\n",
    "        partido['ano'] = ano\n",
    "        dados_influencia_flat.append(partido)\n",
    "\n",
    "df_influencia = pd.DataFrame(dados_influencia_flat)\n",
    "\n",
    "df_influencia"
   ]
  },
  {
   "cell_type": "markdown",
   "metadata": {},
   "source": [
    "- Mesclando"
   ]
  },
  {
   "cell_type": "code",
   "execution_count": null,
   "metadata": {},
   "outputs": [],
   "source": [
    "df = pd.read_csv('data/transformed_dfs/Proposicoes_2013_2024.csv')\n"
   ]
  },
  {
   "cell_type": "code",
   "execution_count": null,
   "metadata": {},
   "outputs": [],
   "source": [
    "df_influencia = df_influencia.rename(columns={'partido': 'partidoAutor'})\n",
    "df_influencia"
   ]
  },
  {
   "cell_type": "code",
   "execution_count": null,
   "metadata": {},
   "outputs": [],
   "source": [
    "#compatibilidade\n",
    "print(df['partidoAutor'].dtype, df_influencia['partidoAutor'].dtype)\n",
    "print(df['ano'].dtype, df_influencia['ano'].dtype)"
   ]
  },
  {
   "cell_type": "code",
   "execution_count": null,
   "metadata": {},
   "outputs": [],
   "source": [
    "#ajuste\n",
    "df['partidoAutor'] = df['partidoAutor'].str.strip()\n",
    "df_influencia['partidoAutor'] = df_influencia['partidoAutor'].str.strip()\n",
    "df['partidoAutor'] = df['partidoAutor'].str.upper()\n",
    "df_influencia['partidoAutor'] = df_influencia['partidoAutor'].str.upper()\n",
    "\n",
    "renomear_partidos = {\n",
    "    'PC DO B': 'PCDOB',\n",
    "    'SOLIDARI': 'SOLIDARIEDADE',\n",
    "    'PRB': 'REPUBLICANOS',\n",
    "    'REPUBLIC': 'REPUBLICANOS',\n",
    "    'PATRI': 'PATRIOTA',\n",
    "    'PODEMOS': 'PODE',\n",
    "    'MDB': 'PMDB',\n",
    "    #'PR': 'PL'\n",
    "    #'PPS': 'CIDADANIA'\n",
    "}    \n",
    "\n",
    "df['partidoAutor'] = df['partidoAutor'].replace(renomear_partidos)\n",
    "\n",
    "#caso do REDE e aliança com PSB\n",
    "df.loc[1574, 'partidoAutor'] = 'PSB'\n",
    "\n",
    "#caso do PPS que é o CIDADANIA\n",
    "df.loc[5887, 'partidoAutor'] = 'CIDADANIA'\n",
    "df.loc[5903, 'partidoAutor'] = 'CIDADANIA'\n",
    "\n",
    "#caso do PR que é o PL, e vice versa\n",
    "df.loc[5356, 'partidoAutor'] = 'PR'\n",
    "df.loc[5518, 'partidoAutor'] = 'PR'"
   ]
  },
  {
   "cell_type": "code",
   "execution_count": null,
   "metadata": {},
   "outputs": [],
   "source": [
    "df = df.merge(df_influencia[['partidoAutor', 'ano', 'influencia']], \n",
    "              on=['partidoAutor', 'ano'], how='left')\n",
    "\n",
    "df"
   ]
  },
  {
   "cell_type": "code",
   "execution_count": null,
   "metadata": {},
   "outputs": [],
   "source": [
    "df = df[~df['influencia'].isna()]\n",
    "df.reset_index(drop=True, inplace=True)\n",
    "df"
   ]
  },
  {
   "cell_type": "code",
   "execution_count": null,
   "metadata": {},
   "outputs": [],
   "source": [
    "df.to_csv('data/transformed_dfs/Proposicoes_2013_2024_Influencia.csv', index=False)\n",
    "print(\"File Proposicoes_2013_2024_Influencia.csv saved\")"
   ]
  },
  {
   "cell_type": "markdown",
   "metadata": {},
   "source": [
    "### Presidente Camara"
   ]
  },
  {
   "cell_type": "code",
   "execution_count": null,
   "metadata": {},
   "outputs": [],
   "source": [
    "from bs4 import BeautifulSoup\n",
    "import requests\n",
    "import pandas as pd\n",
    "from io import StringIO\n",
    "import os"
   ]
  },
  {
   "cell_type": "code",
   "execution_count": null,
   "metadata": {},
   "outputs": [],
   "source": [
    "url = \"https://pt.wikipedia.org/wiki/Lista_de_presidentes_da_C%C3%A2mara_dos_Deputados_do_Brasil\"\n",
    "response = requests.get(url)\n",
    "html_content = response.text\n",
    "soup = BeautifulSoup(html_content, 'html.parser')\n",
    "tables = soup.find_all('table', {'class': 'wikitable'})"
   ]
  },
  {
   "cell_type": "code",
   "execution_count": null,
   "metadata": {},
   "outputs": [],
   "source": [
    "table = tables[1]\n",
    "dfs = pd.read_html(StringIO(str(table)))\n",
    "df = dfs[0]\n",
    "df.head()"
   ]
  },
  {
   "cell_type": "code",
   "execution_count": null,
   "metadata": {},
   "outputs": [],
   "source": [
    "df.columns = [' '.join(col).strip() for col in df.columns.values]\n",
    "\n",
    "df.rename(columns={df.columns[3]: \"DataInicial\", \n",
    "                   df.columns[4]: \"DataFinal\",\n",
    "                   df.columns[7]: \"Partido\"\n",
    "                   }, inplace=True)\n",
    "\n",
    "def custom_date_parser(date_str):\n",
    "    months = {\n",
    "        'janeiro': '01', 'fevereiro': '02', 'março': '03', 'abril': '04',\n",
    "        'maio': '05', 'junho': '06', 'julho': '07', 'agosto': '08',\n",
    "        'setembro': '09', 'outubro': '10', 'novembro': '11', 'dezembro': '12'\n",
    "    }\n",
    "    day, month_str, year = date_str.split(' de ')\n",
    "    \n",
    "    if '1' in day:\n",
    "        day = '1'\n",
    "\n",
    "    month = months[month_str]\n",
    "    return f'{year}-{month}-{day}'\n",
    "\n",
    "def extract_year(date_str):\n",
    "    try:\n",
    "        # Extrair a última palavra da string, que é o ano\n",
    "        year = date_str.split()[-1]\n",
    "        # Verificar se o ano é um número válido\n",
    "        if year.isdigit():\n",
    "            return int(year)\n",
    "        else:\n",
    "            return None\n",
    "    except Exception as e:\n",
    "        return None"
   ]
  },
  {
   "cell_type": "code",
   "execution_count": null,
   "metadata": {},
   "outputs": [],
   "source": [
    "df['AnoInicial'] = df['DataInicial'].apply(extract_year)\n",
    "df['AnoFinal'] = df['DataFinal'].apply(extract_year)\n",
    "\n",
    "df = df[[\"DataInicial\", \"DataFinal\", \"AnoInicial\", \"AnoFinal\",  \"Partido\"]]\n",
    "\n",
    "df_filtered_anos = df[df['AnoFinal'] >=2013]"
   ]
  },
  {
   "cell_type": "code",
   "execution_count": null,
   "metadata": {},
   "outputs": [],
   "source": [
    "df_filtered_anos.loc[:, \"AnoInicial\"] = df_filtered_anos[\"AnoInicial\"].astype(int)\n",
    "df_filtered_anos.loc[:, \"AnoFinal\"] = df_filtered_anos[\"AnoFinal\"].astype(int)\n",
    "df_filtered_anos.loc[:, \"Partido\"] = df_filtered_anos[\"Partido\"].apply(lambda x: x.split()[-1])\n",
    "print(df_filtered_anos)"
   ]
  },
  {
   "cell_type": "code",
   "execution_count": null,
   "metadata": {},
   "outputs": [],
   "source": [
    "df_filtered_anos.loc[:, 'DataFinal'] = df_filtered_anos['DataFinal'].str.replace('1º', '1', regex=True).str.replace('Fevereiro', 'fevereiro')\n",
    "df_filtered_anos.loc[:, 'DataInicial'] = df_filtered_anos['DataInicial'].str.replace('Fevereiro', 'fevereiro')\n",
    "df_filtered_anos.loc[:, 'DataInicial'] = df_filtered_anos['DataInicial'].apply(custom_date_parser)\n",
    "df_filtered_anos.loc[:, 'DataFinal'] = df_filtered_anos['DataFinal'].apply(custom_date_parser)"
   ]
  },
  {
   "cell_type": "code",
   "execution_count": null,
   "metadata": {},
   "outputs": [],
   "source": [
    "df_filtered_anos.loc[:, 'DataInicial'] = pd.to_datetime(df_filtered_anos['DataInicial'], format='%Y-%m-%d', errors='coerce').dt.date\n",
    "df_filtered_anos.loc[:, 'DataFinal'] = pd.to_datetime(df_filtered_anos['DataFinal'], format='%Y-%m-%d', errors='coerce').dt.date"
   ]
  },
  {
   "cell_type": "code",
   "execution_count": null,
   "metadata": {},
   "outputs": [],
   "source": [
    "df_filtered_anos.to_csv('../data/presidentes_camara_deputados.csv', index=False)\n",
    "print('Arquivo salvo com sucesso!')"
   ]
  },
  {
   "cell_type": "markdown",
   "metadata": {},
   "source": [
    "### Ajustes"
   ]
  },
  {
   "cell_type": "code",
   "execution_count": null,
   "metadata": {},
   "outputs": [],
   "source": [
    "ObterProposicoes = os.path.join('data', 'ObterProposicoes_2013_2024.csv')\n",
    "df = pd.read_csv(ObterProposicoes)\n",
    "\n",
    "duplicated_ids = df[df['idProposicao'].duplicated()]['idProposicao']\n",
    "\n",
    "if duplicated_ids.any():\n",
    "    df = df.drop_duplicates(subset='idProposicao')\n",
    "\n",
    "df = df[[\"nomeProposicao\", \"idProposicao\", \"tema\", \"partidoAutor\", \"DataApresentacao\", \"Situacao\"]]"
   ]
  },
  {
   "cell_type": "markdown",
   "metadata": {},
   "source": [
    "- Agrupando temas em categorias"
   ]
  },
  {
   "cell_type": "code",
   "execution_count": null,
   "metadata": {},
   "outputs": [],
   "source": [
    "direitos_justica = [\n",
    "    'Direito Penal e Processual Penal', 'Direito e Justiça', \n",
    "    'Direito Civil e Processual Civil', 'Direito Constitucional', \n",
    "    'Direito e Defesa do Consumidor', 'Direitos Humanos e Minorias'\n",
    "]\n",
    "\n",
    "desenvolvimento_social_urbano = [\n",
    "    'Cidades e Desenvolvimento Urbano', 'Saúde', 'Educação', \n",
    "    'Trabalho e Emprego', 'Arte, Cultura e Religião', \n",
    "    'Esporte e Lazer', 'Previdência e Assistência Social', \n",
    "    'Homenagens e Datas Comemorativas'\n",
    "]\n",
    "\n",
    "economia_desenvolvimento_sustentavel = [\n",
    "    'Meio Ambiente e Desenvolvimento Sustentável', 'Economia', \n",
    "    'Indústria, Comércio e Serviços', 'Finanças Públicas e Orçamento', \n",
    "    'Agricultura, Pecuária, Pesca e Extrativismo', 'Estrutura Fundiária', \n",
    "    'Turismo', 'Relações Internacionais e Comércio Exterior', \n",
    "    'Energia, Recursos Hídricos e Minerais'\n",
    "]\n",
    "\n",
    "administracao_politicas_publicas = [\n",
    "    'Administração Pública', 'Processo Legislativo e Atuação Parlamentar', \n",
    "    'Política, Partidos e Eleições', 'Defesa e Segurança', \n",
    "    'Comunicações', 'Viação, Transporte e Mobilidade', \n",
    "    'Ciência, Tecnologia e Inovação'\n",
    "]\n",
    "\n",
    "infraestrutura_gestao_recursos = [\n",
    "    'Viação, Transporte e Mobilidade', 'Energia, Recursos Hídricos e Minerais', \n",
    "    'Estrutura Fundiária', 'Comunicações'\n",
    "]"
   ]
  },
  {
   "cell_type": "markdown",
   "metadata": {},
   "source": [
    "- Codificação binária categorizada (se baseando na ideia de One-Hot Encoding)"
   ]
  },
  {
   "cell_type": "code",
   "execution_count": null,
   "metadata": {},
   "outputs": [],
   "source": [
    "for col in ['Administração e Políticas Públicas', \n",
    "            'Desenvolvimento Social e Urbano', \n",
    "            'Direitos e Justiça', \n",
    "            'Economia e Desenvolvimento Sustentável', \n",
    "            'Infraestrutura e Gestão de Recursos']:\n",
    "    df.loc[:, col] = 0\n",
    "\n",
    "def atualizar_colunas(row):\n",
    "    for tema in direitos_justica:\n",
    "        if tema in row['tema']:\n",
    "            row['Direitos e Justiça'] = 1\n",
    "    for tema in desenvolvimento_social_urbano:\n",
    "        if tema in row['tema']:\n",
    "            row['Desenvolvimento Social e Urbano'] = 1\n",
    "    for tema in economia_desenvolvimento_sustentavel:\n",
    "        if tema in row['tema']:\n",
    "            row['Economia e Desenvolvimento Sustentável'] = 1\n",
    "    for tema in administracao_politicas_publicas:\n",
    "        if tema in row['tema']:\n",
    "            row['Administração e Políticas Públicas'] = 1\n",
    "    for tema in infraestrutura_gestao_recursos:\n",
    "        if tema in row['tema']:\n",
    "            row['Infraestrutura e Gestão de Recursos'] = 1\n",
    "    return row\n",
    "\n",
    "df = df.apply(atualizar_colunas, axis=1)"
   ]
  },
  {
   "cell_type": "code",
   "execution_count": null,
   "metadata": {},
   "outputs": [],
   "source": [
    "#sem partido out\n",
    "df = df[df['partidoAutor'].str.strip() != '']\n",
    "\n",
    "df = df.drop('tema', axis=1)\n",
    "\n",
    "df"
   ]
  },
  {
   "cell_type": "code",
   "execution_count": null,
   "metadata": {},
   "outputs": [],
   "source": [
    "# @title Verificação de erro ortográfico\n",
    "\n",
    "tranformada_lei = df['Situacao'].str.contains('tranformada', case=False, na=False).sum()\n",
    "transformada_lei = df['Situacao'].str.contains('transformada', case=False, na=False).sum()\n",
    "\n",
    "print(f\"Total de situações 'transformadas em lei': {transformada_lei}\")\n",
    "print(f\"Total de situações 'tranformadas em lei': {tranformada_lei}\")"
   ]
  },
  {
   "cell_type": "code",
   "execution_count": null,
   "metadata": {},
   "outputs": [],
   "source": [
    "df = df[df['Situacao'].str.contains('Arquivada', case=False, na=False) | df['Situacao'].str.contains('Tranformada', case=False, na=False)]\n",
    "\n",
    "num_arquivada = df['Situacao'].str.contains('arquivada', case=False, na=False).sum()\n",
    "transformada_lei = df['Situacao'].str.contains('tranformada', case=False, na=False).sum()\n",
    "\n",
    "print(f\"Total de situações 'transformadas em lei': {transformada_lei}\")\n",
    "print(f\"Total de situações 'arquivada': {num_arquivada}\")\n",
    "\n",
    "df = df.rename(columns={\"Situacao\": \"VirouLei\"})\n",
    "\n",
    "df.loc[:, 'VirouLei']  = df['VirouLei'].str.contains('tranformada', case=False, na=False).astype(int) "
   ]
  },
  {
   "cell_type": "code",
   "execution_count": null,
   "metadata": {},
   "outputs": [],
   "source": [
    "df['DataApresentacao'] = pd.to_datetime(df['DataApresentacao'], dayfirst=True)\n",
    "\n",
    "df['ano'] = df['DataApresentacao'].dt.year\n",
    "\n",
    "colunas = df.columns.tolist()\n",
    "colunas.insert(4, colunas.pop(colunas.index('ano')))\n",
    "colunas.insert(11, colunas.pop(colunas.index('VirouLei')))\n",
    "df = df[colunas]\n",
    "df.reset_index(drop=True, inplace=True)\n",
    "df"
   ]
  },
  {
   "cell_type": "code",
   "execution_count": null,
   "metadata": {},
   "outputs": [],
   "source": [
    "if not os.path.exists('data/transformed_dfs'):\n",
    "    os.makedirs('data/transformed_dfs')\n",
    "    print(\"Directory data/transformed_dfs created\")\n",
    "else:\n",
    "    print(\"Directory data/transformed_dfs already exists\")\n",
    "\n",
    "df.to_csv('data/transformed_dfs/Proposicoes_2013_2024.csv', index=False)\n",
    "print(\"File Proposicoes_2013_2024.csv saved\")"
   ]
  }
 ],
 "metadata": {
  "kernelspec": {
   "display_name": "Python 3",
   "language": "python",
   "name": "python3"
  },
  "language_info": {
   "codemirror_mode": {
    "name": "ipython",
    "version": 3
   },
   "file_extension": ".py",
   "mimetype": "text/x-python",
   "name": "python",
   "nbconvert_exporter": "python",
   "pygments_lexer": "ipython3",
   "version": "3.11.9"
  }
 },
 "nbformat": 4,
 "nbformat_minor": 2
}
