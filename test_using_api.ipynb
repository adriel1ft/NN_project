{
 "cells": [
  {
   "cell_type": "markdown",
   "metadata": {},
   "source": [
    "# Notebook inicial para o projeto final de Aprendizagem de Máquina.\n",
    "\n",
    "1. Escolher o tema e os dados.\n",
    "2. Definir bem o workflow/pipeline de dados, como vamos realizar o nosso trabalho.\n",
    "3. Botar a mão na massa."
   ]
  },
  {
   "cell_type": "markdown",
   "metadata": {},
   "source": [
    "## Endpoints que iremos utilizar:\n",
    "\n",
    "* Link com todos os endpoints: https://www.camara.leg.br/SitCamaraWS/Proposicoes.asmx\n",
    "\n",
    "* ListarProposicoes: https://www.camara.leg.br/SitCamaraWS/Proposicoes.asmx/ListarProposicoes\n",
    "\n",
    "* ListarProposicoesVotadasEmPlenario: https://www.camara.leg.br/SitCamaraWS/Proposicoes.asmx/ListarProposicoesVotadasEmPlenario\n",
    "\n",
    "* ObterVotacaoProposicaoPorID: https://www.camara.leg.br/SitCamaraWS/Proposicoes.asmx/ObterProposicaoPorID\n",
    "\n",
    "## Pipeline de uso dos endpoints:\n",
    "\n",
    "1. Pegar as proposições e colocar num csv. (Definir os anos, vamos focar em PL?)\n",
    "2. Criar nova(s) coluna(s) em relação ao fato de aquela proposição ter sido votada\n",
    "3. Decidir se filtramos só as que foram votadas ou se vamos utilizar o fato de ser votada ou não como uma feature.\n",
    "4. Ver se há necessidade de criar novas colunas.\n",
    "5. Adicionar os resultados das votações.\n",
    "6. Pensar nos próximos passos.\n"
   ]
  },
  {
   "cell_type": "markdown",
   "metadata": {},
   "source": [
    "Testando 'Listar Proposições'"
   ]
  },
  {
   "cell_type": "code",
   "execution_count": 44,
   "metadata": {},
   "outputs": [
    {
     "name": "stdout",
     "output_type": "stream",
     "text": [
      "ok\n"
     ]
    }
   ],
   "source": [
    "import requests\n",
    "import xml.etree.ElementTree as ET\n",
    "\n",
    "url = 'https://www.camara.leg.br/SitCamaraWS/Proposicoes.asmx/ListarProposicoes'\n",
    "params = {\n",
    "    'sigla': 'PL',  # Exemplo de filtro\n",
    "    'numero': '',\n",
    "    'ano': '2023',\n",
    "    'datApresentacaoIni': '01/08/2024',\n",
    "    'datApresentacaoFim': '05/10/2024',\n",
    "    'idTipoAutor': '',\n",
    "    'parteNomeAutor': '',\n",
    "    'siglaPartidoAutor': 'PT',\n",
    "    'siglaUFAutor': '',\n",
    "    'generoAutor': '',\n",
    "    'codEstado': '',\n",
    "    'codOrgaoEstado': '',\n",
    "    'emTramitacao': ''\n",
    "}\n",
    "\n",
    "headers = {\n",
    "    'User-Agent': 'Mozilla/5.0 (Windows NT 10.0; Win64; x64) AppleWebKit/537.36 (KHTML, like Gecko) Chrome/91.0.4472.124 Safari/537.36'\n",
    "}\n",
    "\n",
    "response = requests.get(url, params=params, headers=headers)\n",
    "\n",
    "if response.status_code == 200:\n",
    "    print(\"ok\")\n",
    "else:\n",
    "    print(f\"Error: {response.status_code}\")\n"
   ]
  },
  {
   "cell_type": "code",
   "execution_count": 45,
   "metadata": {},
   "outputs": [
    {
     "name": "stdout",
     "output_type": "stream",
     "text": [
      "<?xml version=\"1.0\" encoding=\"utf-8\"?>\n",
      "<proposicoes>\n",
      "  <proposicao>\n",
      "    <id>2453589</id>\n",
      "    <nome>PL 3455/2023</nome>\n",
      "    <tipoProposicao>\n",
      "      <id>139</id>\n",
      "      <sigla>PL</sigla>\n",
      "      <nome>Projeto de Lei</nome>\n",
      "    </tipoProposicao>\n",
      "    <numero>3455</numero>\n",
      "    <ano>2023</ano>\n",
      "    <orgaoNumerador>\n",
      "      <id>180</id>\n",
      "      <sigla>PLEN      </sigla>\n",
      "      <nome>Plenário</nome>\n",
      "    </orgaoNumerador>\n",
      "    <datApresentacao>15/08/2024 16:57:00</datApresentacao>\n",
      "    <txtEmenta>Dispõe sobre a transformação do campus de Oiapoque da Universidade Federal do Amapá (Unifap) em Universidade Federal da Fronteira Norte (Unifron).</txtEmenta>\n",
      "    <txtExplicacaoEmenta>\n",
      "    </txtExplicacaoEmenta>\n",
      "    <regime>\n",
      "      <codRegime>20</codRegime>\n",
      "      <txtRegime>Prioridade (Art. 151, II, RICD)</txtRegime>\n",
      "    </regime>\n",
      "    <apreciacao>\n",
      "      <id>4</id>\n",
      "      <txtApreciacao>Proposição Sujeita à Apreciação Conclusiva pelas Comissões - Art. 24 II</txtApreciacao>\n",
      "    </apreciacao>\n",
      "    <autor1>\n",
      "      <txtNomeAutor>Senado Federal - Randolfe Rodrigues</txtNomeAutor>\n",
      "      <idecadastro>\n",
      "      </idecadastro>\n",
      "      <codPartido>\n",
      "      </codPartido>\n",
      "      <txtSiglaPartido>PT        </txtSiglaPartido>\n",
      "      <txtSiglaUF>AP</txtSiglaUF>\n",
      "    </autor1>\n",
      "    <qtdAutores>1</qtdAutores>\n",
      "    <ultimoDespacho>\n",
      "      <datDespacho>26/08/2024 11:19:00</datDespacho>\n",
      "</txtDespacho>itação: Prioridade (Art. 151, II, RICD)ssões - Art. 24 IIrência dessa apensação, a matéria passa a tramitar em regime de Prioridade (Art. 151, II, RICD).\n",
      "    </ultimoDespacho>\n",
      "    <situacao>\n",
      "      <id>925</id>\n",
      "      <descricao>Tramitando em Conjunto</descricao>\n",
      "      <orgao>\n",
      "        <codOrgaoEstado>539388</codOrgaoEstado>\n",
      "        <siglaOrgaoEstado>CASP      </siglaOrgaoEstado>\n",
      "      </orgao>\n",
      "      <principal>\n",
      "        <codProposicaoPrincipal>2320831</codProposicaoPrincipal>\n",
      "        <proposicaoPrincipal>PL 1078/2022</proposicaoPrincipal>\n",
      "      </principal>\n",
      "    </situacao>\n",
      "    <indGenero>o</indGenero>\n",
      "    <qtdOrgaosComEstado>1</qtdOrgaosComEstado>\n",
      "  </proposicao>\n",
      "</proposicoes>\n"
     ]
    }
   ],
   "source": [
    "print(response.text)"
   ]
  },
  {
   "cell_type": "code",
   "execution_count": 43,
   "metadata": {},
   "outputs": [],
   "source": [
    "root = ET.fromstring(response.text)"
   ]
  },
  {
   "cell_type": "code",
   "execution_count": 22,
   "metadata": {},
   "outputs": [
    {
     "name": "stdout",
     "output_type": "stream",
     "text": [
      "ID Proposição: 2345498\n",
      "Nome: PL 2/2023 (Nº Anterior: PLS 144/2018)\n",
      "Número: 2\n",
      "Ano: 2023\n",
      "Data Apresentação: 03/01/2023 12:36:00\n",
      "Ementa: Altera a Lei nº 12.529, de 30 de novembro de 2011, para inserir nova infração concorrencial.\n",
      "Tipo de Proposição: Projeto de Lei (ID: 139)\n",
      "Autor: Senado Federal - Roberto Muniz - Partido: PP        , UF: BA\n"
     ]
    }
   ],
   "source": [
    "proposicao = root.find('proposicao')\n",
    "\n",
    "# Extracting individual pieces of data\n",
    "id_proposicao = proposicao.find('id').text\n",
    "nome_proposicao = proposicao.find('nome').text\n",
    "numero = proposicao.find('numero').text\n",
    "ano = proposicao.find('ano').text\n",
    "datApresentacao = proposicao.find('datApresentacao').text\n",
    "txtEmenta = proposicao.find('txtEmenta').text\n",
    "\n",
    "# Accessing nested elements\n",
    "tipo_proposicao = proposicao.find('tipoProposicao')\n",
    "tipo_id = tipo_proposicao.find('id').text\n",
    "tipo_nome = tipo_proposicao.find('nome').text\n",
    "\n",
    "# Accessing the author\n",
    "autor = proposicao.find('autor1')\n",
    "autor_nome = autor.find('txtNomeAutor').text\n",
    "partido = autor.find('txtSiglaPartido').text\n",
    "uf = autor.find('txtSiglaUF').text\n",
    "\n",
    "# Print extracted data\n",
    "print(f\"ID Proposição: {id_proposicao}\")\n",
    "print(f\"Nome: {nome_proposicao}\")\n",
    "print(f\"Número: {numero}\")\n",
    "print(f\"Ano: {ano}\")\n",
    "print(f\"Data Apresentação: {datApresentacao}\")\n",
    "print(f\"Ementa: {txtEmenta}\")\n",
    "print(f\"Tipo de Proposição: {tipo_nome} (ID: {tipo_id})\")\n",
    "print(f\"Autor: {autor_nome} - Partido: {partido}, UF: {uf}\")"
   ]
  },
  {
   "cell_type": "markdown",
   "metadata": {},
   "source": []
  }
 ],
 "metadata": {
  "kernelspec": {
   "display_name": "base",
   "language": "python",
   "name": "python3"
  },
  "language_info": {
   "codemirror_mode": {
    "name": "ipython",
    "version": 3
   },
   "file_extension": ".py",
   "mimetype": "text/x-python",
   "name": "python",
   "nbconvert_exporter": "python",
   "pygments_lexer": "ipython3",
   "version": "3.11.5"
  }
 },
 "nbformat": 4,
 "nbformat_minor": 2
}
